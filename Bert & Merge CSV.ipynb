{
 "cells": [
  {
   "cell_type": "markdown",
   "id": "encouraging-greeting",
   "metadata": {},
   "source": [
    "## BERT"
   ]
  },
  {
   "cell_type": "code",
   "execution_count": 1,
   "id": "turned-oxford",
   "metadata": {},
   "outputs": [],
   "source": [
    "import copy\n",
    "import pandas as pd\n",
    "import numpy as np\n",
    "import matplotlib.pyplot as plt\n",
    "import torch\n",
    "import torch.nn as nn\n",
    "import torch.nn.functional as F\n",
    "import torch.optim as optim\n",
    "from torch.autograd import Variable\n",
    "from torch.utils import data\n",
    "import tensorflow as tf\n",
    "from tqdm import tqdm,trange\n",
    "from transformers import *\n",
    "# from ner_eval import classification_report,csv_report,f1_score\n",
    "from seqeval.scheme import IOB2\n",
    "from seqeval.metrics import classification_report,f1_score\n",
    "\n",
    "from sklearn.model_selection import KFold"
   ]
  },
  {
   "cell_type": "code",
   "execution_count": 27,
   "id": "physical-indonesia",
   "metadata": {},
   "outputs": [],
   "source": [
    "data_train = pd.read_csv(\"BCSMM4H_train_IOB2_all.txt\",sep = '\\t')\n",
    "data_dev = pd.read_csv(\"BC_dev_IOB2_all.txt\",sep = '\\t')"
   ]
  },
  {
   "cell_type": "code",
   "execution_count": 39,
   "id": "accredited-split",
   "metadata": {},
   "outputs": [],
   "source": [
    "data_train = data_train.fillna('NA')\n",
    "data_dev = data_dev.fillna('NA')"
   ]
  },
  {
   "cell_type": "code",
   "execution_count": 40,
   "id": "complex-dairy",
   "metadata": {},
   "outputs": [],
   "source": [
    "class SentenceGetter(object):\n",
    "    \n",
    "    def __init__(self, data):\n",
    "        self.n_sent = 1\n",
    "        self.data = data\n",
    "        self.empty = False\n",
    "        agg_func = lambda s: [(w, t) for w, t in zip(s[\"Word\"].values.tolist(),\n",
    "                                                     s[\"Tag\"].values.tolist())]\n",
    "        self.grouped = self.data.groupby(\"Sentence#\").apply(agg_func)\n",
    "        self.sentences = [s for s in self.grouped]\n",
    "    \n",
    "    def get_next(self):\n",
    "        try:\n",
    "            s = self.grouped[self.n_sent]\n",
    "            self.n_sent += 1\n",
    "            return s\n",
    "        except:\n",
    "            return None"
   ]
  },
  {
   "cell_type": "code",
   "execution_count": 41,
   "id": "underlying-platinum",
   "metadata": {
    "scrolled": true
   },
   "outputs": [],
   "source": [
    "getter = SentenceGetter(data_train)\n",
    "dev_getter = SentenceGetter(data_dev)"
   ]
  },
  {
   "cell_type": "code",
   "execution_count": 42,
   "id": "through-gamma",
   "metadata": {},
   "outputs": [],
   "source": [
    "sentences = [[word[0] for word in sentence] for sentence in getter.sentences]\n",
    "dev_sentences = [[word[0] for word in sentence] for sentence in dev_getter.sentences]"
   ]
  },
  {
   "cell_type": "code",
   "execution_count": 43,
   "id": "tamil-physiology",
   "metadata": {},
   "outputs": [],
   "source": [
    "labels = [[s[1] for s in sent] for sent in getter.sentences]\n",
    "dev_labels = [[s[1] for s in sent] for sent in dev_getter.sentences]"
   ]
  },
  {
   "cell_type": "code",
   "execution_count": 44,
   "id": "verbal-digit",
   "metadata": {},
   "outputs": [
    {
     "data": {
      "text/plain": [
       "['O', 'B-', 'I-', 'PAD']"
      ]
     },
     "execution_count": 44,
     "metadata": {},
     "output_type": "execute_result"
    }
   ],
   "source": [
    "tag_values = list(set(data_train[\"Tag\"].values))\n",
    "tag_values.append(\"PAD\")\n",
    "tag_values"
   ]
  },
  {
   "cell_type": "code",
   "execution_count": 45,
   "id": "artificial-morgan",
   "metadata": {},
   "outputs": [],
   "source": [
    "bs = 16\n",
    "model_ty = 'bert-base-cased'\n",
    "# model_ty = 'bert-base-multilingual-cased'\n",
    "# tokenizer = BertTokenizer.from_pretrained('bert-base-chinese')\n",
    "tokenizer = BertTokenizer.from_pretrained(model_ty, do_lower_case=False)"
   ]
  },
  {
   "cell_type": "code",
   "execution_count": 46,
   "id": "elegant-bibliography",
   "metadata": {},
   "outputs": [],
   "source": [
    "def tokenize_and_preserve_labels(sentence, text_labels):\n",
    "    tokenized_sentence = []\n",
    "    labels = []\n",
    "\n",
    "    for word, label in zip(sentence, text_labels):\n",
    "        tokenized_word = tokenizer.tokenize(word)\n",
    "        n_subwords = len(tokenized_word)\n",
    "\n",
    "        tokenized_sentence.extend(tokenized_word)\n",
    "        if n_subwords > 1 and 'B-' in label:\n",
    "            labels.extend([label])\n",
    "            _ = 'I-' + label.split('B-')[1]\n",
    "            if _ not in tag_values:\n",
    "                tag_values.append(_)\n",
    "                print(_)\n",
    "            labels.extend([_] * (n_subwords-1))\n",
    "        else:\n",
    "            labels.extend([label] * n_subwords)\n",
    "    return tokenized_sentence, labels"
   ]
  },
  {
   "cell_type": "code",
   "execution_count": 47,
   "id": "beautiful-benchmark",
   "metadata": {},
   "outputs": [
    {
     "name": "stdout",
     "output_type": "stream",
     "text": [
      "done\n"
     ]
    }
   ],
   "source": [
    "tokenized_texts_and_labels = [\n",
    "    tokenize_and_preserve_labels(sent, labs)\n",
    "    for sent, labs in zip(sentences, labels)\n",
    "]\n",
    "print('done')\n",
    "dev_tokenized_texts_and_labels = [\n",
    "    tokenize_and_preserve_labels(sent, labs)\n",
    "    for sent, labs in zip(dev_sentences, dev_labels)\n",
    "]"
   ]
  },
  {
   "cell_type": "code",
   "execution_count": 48,
   "id": "smooth-stopping",
   "metadata": {},
   "outputs": [
    {
     "data": {
      "text/plain": [
       "{'O': 0, 'B-': 1, 'I-': 2, 'PAD': 3}"
      ]
     },
     "execution_count": 48,
     "metadata": {},
     "output_type": "execute_result"
    }
   ],
   "source": [
    "tag2idx = {t: i for i, t in enumerate(tag_values)}\n",
    "tag2idx"
   ]
  },
  {
   "cell_type": "code",
   "execution_count": 49,
   "id": "romance-chart",
   "metadata": {},
   "outputs": [],
   "source": [
    "tokenized_texts = [token_label_pair[0] for token_label_pair in tokenized_texts_and_labels]\n",
    "tokenized_labels = [token_label_pair[1] for token_label_pair in tokenized_texts_and_labels]\n",
    "\n",
    "dev_tokenized_texts = [token_label_pair[0] for token_label_pair in dev_tokenized_texts_and_labels]\n",
    "dev_tokenized_labels = [token_label_pair[1] for token_label_pair in dev_tokenized_texts_and_labels]"
   ]
  },
  {
   "cell_type": "code",
   "execution_count": 50,
   "id": "excessive-sierra",
   "metadata": {},
   "outputs": [],
   "source": [
    "def check_post_entity(pre_tag,tag):\n",
    "    error_entity = False\n",
    "    if pre_tag == 'O' and 'I-' in tag:\n",
    "        error_entity = True\n",
    "    if error_entity:\n",
    "        print(idx+1)\n",
    "        print(pre_tag,tag)\n",
    "def inspect_label(lal):\n",
    "    for n,_ in enumerate(lal):\n",
    "        if n != 0:\n",
    "            check_post_entity(lal[n-1],lal[n])\n",
    "for idx,t_label in enumerate(dev_tokenized_labels):\n",
    "    inspect_label(t_label)"
   ]
  },
  {
   "cell_type": "code",
   "execution_count": 51,
   "id": "motivated-consequence",
   "metadata": {},
   "outputs": [
    {
     "name": "stdout",
     "output_type": "stream",
     "text": [
      "['Bruh', 'do', 'you', 'wan', 'na', 'fight', 'nah', 'man', 'it', \"'s\", 'problem']\n",
      "['O', 'O', 'O', 'O', 'O', 'O', 'O', 'O', 'O', 'O', 'O']\n",
      "['B', '##ru', '##h', 'do', 'you', 'wa', '##n', 'na', 'fight', 'na', '##h', 'man', 'it', \"'\", 's', 'problem'] 16\n",
      "['O', 'O', 'O', 'O', 'O', 'O', 'O', 'O', 'O', 'O', 'O', 'O', 'O', 'O', 'O', 'O'] 16\n"
     ]
    }
   ],
   "source": [
    "idx = 3\n",
    "print(dev_sentences[idx])\n",
    "print(dev_labels[idx])\n",
    "print(dev_tokenized_texts[idx],len(dev_tokenized_texts[idx]))\n",
    "print(dev_tokenized_labels[idx],len(dev_tokenized_labels[idx]))"
   ]
  },
  {
   "cell_type": "code",
   "execution_count": 52,
   "id": "crazy-savannah",
   "metadata": {},
   "outputs": [],
   "source": [
    "input_ids = [tokenizer.convert_tokens_to_ids(txt) for txt in tokenized_texts]\n",
    "dev_input_ids = [tokenizer.convert_tokens_to_ids(txt) for txt in dev_tokenized_texts]\n",
    "tags = [[tag2idx.get(l) for l in lab] for lab in tokenized_labels]\n",
    "dev_tags = [[tag2idx.get(l,tag2idx['O']) for l in lab] for lab in dev_tokenized_labels]"
   ]
  },
  {
   "cell_type": "code",
   "execution_count": 53,
   "id": "artificial-monte",
   "metadata": {},
   "outputs": [],
   "source": [
    "from torch.utils.data import Dataset\n",
    "class BertNerDataset(Dataset):\n",
    "    def __init__(self,sentences,labels, word_pad_idx, tag_pad_idx, max_len = 500):\n",
    "        self.sentences = sentences\n",
    "        self.labels = labels\n",
    "        self.word_pad_idx = word_pad_idx\n",
    "        self.tag_pad_idx = tag_pad_idx\n",
    "        self.max_len = max_len\n",
    "    def __len__(self):\n",
    "        return len(self.sentences)\n",
    "\n",
    "    def __getitem__(self, index):\n",
    "        return (self.sentences[index],self.labels[index])\n",
    "        \n",
    "    def collate_fn(self, datasets):\n",
    "        sentences = [dataset[0] for dataset in datasets]\n",
    "        labels = [dataset[1] for dataset in datasets]\n",
    "        max_sent = max([len(data) for data in sentences])\n",
    "        max_len = max([min(len(sentence), self.max_len) for sentence in sentences])\n",
    "        pad_sentence = []\n",
    "        pad_label = []\n",
    "        for sentence,label in zip(sentences,labels):\n",
    "            \n",
    "            if len(sentence) > max_len:\n",
    "#                 print('asd')\n",
    "                pad_sentence.append(sentence[:max_len])\n",
    "                pad_label.append(label[:max_len])\n",
    "                attention_masks = [[float(i != 0.0) for i in ii] for ii in pad_sentence]\n",
    "            else:\n",
    "#                 print('zxc')\n",
    "                pad_sentence.append(sentence+[self.word_pad_idx]*(max_len-len(sentence)))\n",
    "                pad_label.append(label+[self.tag_pad_idx]*(max_len-len(label)))\n",
    "                attention_masks = [[float(i != 0.0) for i in ii] for ii in pad_sentence]\n",
    "        return torch.LongTensor(pad_sentence), torch.LongTensor(pad_label),torch.tensor(attention_masks)"
   ]
  },
  {
   "cell_type": "markdown",
   "id": "educated-county",
   "metadata": {},
   "source": [
    "## 使用 trainingset+validset 去做 10-fold CV"
   ]
  },
  {
   "cell_type": "code",
   "execution_count": 54,
   "id": "streaming-serve",
   "metadata": {},
   "outputs": [],
   "source": [
    "from torch.utils.data import TensorDataset, DataLoader , SubsetRandomSampler ,ConcatDataset,Sampler\n",
    "from transformers import get_linear_schedule_with_warmup\n",
    "bs = 16\n",
    "k_folds = 10\n",
    "kfold = KFold(n_splits=k_folds, shuffle=True)\n",
    "device = torch.device(\"cuda\" if torch.cuda.is_available() else \"cpu\")\n",
    "epochs = 10\n",
    "max_grad_norm = 3.0\n",
    "\n",
    "tr_dataset = BertNerDataset(input_ids,tags,tokenizer.convert_tokens_to_ids('[PAD]'),tag2idx['PAD'])\n",
    "va_dataset = BertNerDataset(dev_input_ids,dev_tags,tokenizer.convert_tokens_to_ids('[PAD]'),tag2idx['PAD'])\n",
    "dataset = ConcatDataset([tr_dataset, va_dataset])"
   ]
  },
  {
   "cell_type": "code",
   "execution_count": null,
   "id": "sonic-remark",
   "metadata": {
    "scrolled": true
   },
   "outputs": [
    {
     "name": "stdout",
     "output_type": "stream",
     "text": [
      "FOLD 0\n",
      "--------------------------------\n"
     ]
    },
    {
     "name": "stderr",
     "output_type": "stream",
     "text": [
      "Some weights of the model checkpoint at bert-base-cased were not used when initializing BertForTokenClassification: ['cls.predictions.bias', 'cls.predictions.transform.dense.weight', 'cls.predictions.transform.dense.bias', 'cls.predictions.decoder.weight', 'cls.seq_relationship.weight', 'cls.seq_relationship.bias', 'cls.predictions.transform.LayerNorm.weight', 'cls.predictions.transform.LayerNorm.bias']\n",
      "- This IS expected if you are initializing BertForTokenClassification from the checkpoint of a model trained on another task or with another architecture (e.g. initializing a BertForSequenceClassification model from a BertForPretraining model).\n",
      "- This IS NOT expected if you are initializing BertForTokenClassification from the checkpoint of a model that you expect to be exactly identical (initializing a BertForSequenceClassification model from a BertForSequenceClassification model).\n",
      "Some weights of BertForTokenClassification were not initialized from the model checkpoint at bert-base-cased and are newly initialized: ['classifier.weight', 'classifier.bias']\n",
      "You should probably TRAIN this model on a down-stream task to be able to use it for predictions and inference.\n",
      "Epoch:   0%|                                                                                    | 0/10 [00:00<?, ?it/s]"
     ]
    },
    {
     "name": "stdout",
     "output_type": "stream",
     "text": [
      "Average train loss: 0.010023663633511403\n"
     ]
    },
    {
     "name": "stderr",
     "output_type": "stream",
     "text": [
      "C:\\ProgramData\\Anaconda3\\lib\\site-packages\\seqeval\\metrics\\sequence_labeling.py:171: UserWarning: PAD seems not to be NE tag.\n",
      "  warnings.warn('{} seems not to be NE tag.'.format(chunk))\n"
     ]
    },
    {
     "name": "stdout",
     "output_type": "stream",
     "text": [
      "train F1-Score: 0.6213314244810307\n",
      "Average valid loss: 0.00864833544458802\n",
      "valid F1-Score: 0.7517619420516837\n"
     ]
    },
    {
     "name": "stderr",
     "output_type": "stream",
     "text": [
      "\r",
      "Epoch:  10%|███████▎                                                                 | 1/10 [08:37<1:17:40, 517.87s/it]"
     ]
    },
    {
     "name": "stdout",
     "output_type": "stream",
     "text": [
      "Average train loss: 0.004190742562078843\n",
      "train F1-Score: 0.8119650418956663\n",
      "Average valid loss: 0.006593502619000899\n",
      "valid F1-Score: 0.8166259168704157\n"
     ]
    },
    {
     "name": "stderr",
     "output_type": "stream",
     "text": [
      "\r",
      "Epoch:  20%|██████████████▌                                                          | 2/10 [17:08<1:08:30, 513.83s/it]"
     ]
    }
   ],
   "source": [
    "All_Fold_score = []\n",
    "for fold, (train_ids, test_ids) in enumerate(kfold.split(dataset)):\n",
    "    print(f'FOLD {fold}')\n",
    "    print('--------------------------------')\n",
    "    train_subsampler = torch.utils.data.SubsetRandomSampler(train_ids)\n",
    "    test_subsampler = torch.utils.data.SubsetRandomSampler(test_ids)\n",
    "    train_dataloader = DataLoader(dataset, batch_size=bs,\n",
    "                                  collate_fn=tr_dataset.collate_fn,\n",
    "                                  sampler=train_subsampler)\n",
    "    valid_dataloader = DataLoader(dataset, batch_size=bs,\n",
    "                                  collate_fn=va_dataset.collate_fn,\n",
    "                                  sampler=test_subsampler)\n",
    "\n",
    "    total_steps = len(train_dataloader) * epochs\n",
    "    model = BertForTokenClassification.from_pretrained(\n",
    "        model_ty,\n",
    "        num_labels=len(tag2idx),\n",
    "        output_attentions = False,\n",
    "        output_hidden_states = False\n",
    "    )\n",
    "    optimizer = AdamW(model.parameters(),lr=3e-5,eps=1e-8)\n",
    "    scheduler = get_linear_schedule_with_warmup(\n",
    "        optimizer,\n",
    "        num_warmup_steps=0,\n",
    "        num_training_steps=total_steps\n",
    "    )\n",
    "    model.cuda()\n",
    "    all_loader = {\n",
    "    \"train\" : train_dataloader,\n",
    "    \"valid\" : valid_dataloader,\n",
    "    }\n",
    "    Fold_score = []\n",
    "    for _ in trange(epochs, desc=\"Epoch\"):\n",
    "        for loader in all_loader:\n",
    "            total_loss = 0\n",
    "            # Training loop\n",
    "            predictions , true_labels = [], []\n",
    "            for step, batch in enumerate(all_loader[loader]):\n",
    "                if loader == 'train':\n",
    "                    model.train()\n",
    "                else:\n",
    "                    model.eval()\n",
    "                batch = tuple(t.to(device) for t in batch)\n",
    "                b_input_ids, b_labels ,b_input_mask = batch\n",
    "                model.zero_grad()\n",
    "                outputs = model(b_input_ids, token_type_ids=None,\n",
    "                                attention_mask=b_input_mask, labels=b_labels)\n",
    "\n",
    "                loss = outputs[0]\n",
    "                loss.backward()\n",
    "                total_loss += loss.item()\n",
    "\n",
    "                if loader == 'train':\n",
    "                    torch.nn.utils.clip_grad_norm_(parameters=model.parameters(), max_norm=max_grad_norm)\n",
    "                    optimizer.step()\n",
    "                    scheduler.step()\n",
    "                logits = outputs[1].detach().cpu().numpy()\n",
    "                label_ids = b_labels.to('cpu').numpy()\n",
    "                predictions.extend([list(p) for p in np.argmax(logits, axis=2)])\n",
    "                true_labels.extend(label_ids)\n",
    "\n",
    "            avg_loss = total_loss / len(all_loader[loader])\n",
    "            print(f\"Average {loader} loss: {avg_loss}\")\n",
    "            pred_tags,valid_tags = [],[]\n",
    "            for p, l in zip(predictions, true_labels):\n",
    "                _p = []\n",
    "                _l = []\n",
    "                for p_i, l_i in zip(p, l):\n",
    "                    if tag_values[l_i] != \"PAD\":\n",
    "                        _p.append(tag_values[p_i])\n",
    "                        _l.append(tag_values[l_i])\n",
    "                pred_tags.append(_p)\n",
    "                valid_tags.append(_l)\n",
    "            print(f\"{loader} F1-Score: {f1_score(valid_tags , pred_tags,scheme = IOB2)}\")\n",
    "            if loader == 'valid':\n",
    "                Fold_score.append(f1_score(valid_tags , pred_tags,scheme = IOB2))\n",
    "    if Fold_score != []:\n",
    "        All_Fold_score.append(Fold_score)\n",
    "#             if _ == (epochs - 1):\n",
    "#                 print(classification_report(valid_tags, pred_tags,mode='strict',scheme = IOB2))"
   ]
  },
  {
   "cell_type": "code",
   "execution_count": null,
   "id": "purple-mumbai",
   "metadata": {
    "scrolled": true
   },
   "outputs": [],
   "source": [
    "All_score = len(All_Fold_score[0]) * [0]\n",
    "for score in All_Fold_score:\n",
    "    All_score = np.sum([All_score,score], axis = 0)\n",
    "All_score = np.round((All_score / 10),2)     "
   ]
  },
  {
   "cell_type": "code",
   "execution_count": null,
   "id": "russian-kelly",
   "metadata": {},
   "outputs": [],
   "source": [
    "All_score"
   ]
  },
  {
   "cell_type": "markdown",
   "id": "musical-sleep",
   "metadata": {},
   "source": [
    "## 單用 trainingset 去做 10-fold CV"
   ]
  },
  {
   "cell_type": "code",
   "execution_count": null,
   "id": "thermal-aaron",
   "metadata": {},
   "outputs": [],
   "source": [
    "kfold = KFold(n_splits=k_folds, shuffle=True)\n",
    "device = torch.device(\"cuda\" if torch.cuda.is_available() else \"cpu\")\n",
    "epochs = 10\n",
    "max_grad_norm = 3.0\n",
    "\n",
    "tr_dataset = BertNerDataset(input_ids,tags,tokenizer.convert_tokens_to_ids('[PAD]'),tag2idx['PAD'])"
   ]
  },
  {
   "cell_type": "code",
   "execution_count": null,
   "id": "clear-forwarding",
   "metadata": {},
   "outputs": [],
   "source": [
    "All_Fold_score = []\n",
    "for fold, (train_ids, test_ids) in enumerate(kfold.split(tr_dataset)):\n",
    "    print(f'FOLD {fold}')\n",
    "    print('--------------------------------')\n",
    "    train_subsampler = torch.utils.data.SubsetRandomSampler(train_ids)\n",
    "    test_subsampler = torch.utils.data.SubsetRandomSampler(test_ids)\n",
    "    train_dataloader = DataLoader(dataset, batch_size=bs,\n",
    "                                  collate_fn=tr_dataset.collate_fn,\n",
    "                                  sampler=train_subsampler)\n",
    "    valid_dataloader = DataLoader(dataset, batch_size=bs,\n",
    "                                  collate_fn=va_dataset.collate_fn,\n",
    "                                  sampler=test_subsampler)\n",
    "\n",
    "    total_steps = len(train_dataloader) * epochs\n",
    "    model = BertForTokenClassification.from_pretrained(\n",
    "        model_ty,\n",
    "        num_labels=len(tag2idx),\n",
    "        output_attentions = False,\n",
    "        output_hidden_states = False\n",
    "    )\n",
    "    optimizer = AdamW(model.parameters(),lr=3e-5,eps=1e-8)\n",
    "    scheduler = get_linear_schedule_with_warmup(\n",
    "        optimizer,\n",
    "        num_warmup_steps=0,\n",
    "        num_training_steps=total_steps\n",
    "    )\n",
    "    model.cuda()\n",
    "    all_loader = {\n",
    "    \"train\" : train_dataloader,\n",
    "    \"valid\" : valid_dataloader,\n",
    "    }\n",
    "    Fold_score = []\n",
    "    for _ in trange(epochs, desc=\"Epoch\"):\n",
    "        for loader in all_loader:\n",
    "            total_loss = 0\n",
    "            # Training loop\n",
    "            predictions , true_labels = [], []\n",
    "            for step, batch in enumerate(all_loader[loader]):\n",
    "                if loader == 'train':\n",
    "                    model.train()\n",
    "                else:\n",
    "                    model.eval()\n",
    "                batch = tuple(t.to(device) for t in batch)\n",
    "                b_input_ids, b_labels ,b_input_mask = batch\n",
    "                model.zero_grad()\n",
    "                outputs = model(b_input_ids, token_type_ids=None,\n",
    "                                attention_mask=b_input_mask, labels=b_labels)\n",
    "\n",
    "                loss = outputs[0]\n",
    "                loss.backward()\n",
    "                total_loss += loss.item()\n",
    "\n",
    "                if loader == 'train':\n",
    "                    torch.nn.utils.clip_grad_norm_(parameters=model.parameters(), max_norm=max_grad_norm)\n",
    "                    optimizer.step()\n",
    "                    scheduler.step()\n",
    "                logits = outputs[1].detach().cpu().numpy()\n",
    "                label_ids = b_labels.to('cpu').numpy()\n",
    "                predictions.extend([list(p) for p in np.argmax(logits, axis=2)])\n",
    "                true_labels.extend(label_ids)\n",
    "\n",
    "            avg_loss = total_loss / len(all_loader[loader])\n",
    "            print(f\"Average {loader} loss: {avg_loss}\")\n",
    "            pred_tags,valid_tags = [],[]\n",
    "            for p, l in zip(predictions, true_labels):\n",
    "                _p = []\n",
    "                _l = []\n",
    "                for p_i, l_i in zip(p, l):\n",
    "                    if tag_values[l_i] != \"PAD\":\n",
    "                        _p.append(tag_values[p_i])\n",
    "                        _l.append(tag_values[l_i])\n",
    "                pred_tags.append(_p)\n",
    "                valid_tags.append(_l)\n",
    "            print(f\"{loader} F1-Score: {f1_score(valid_tags , pred_tags,scheme = IOB2)}\")\n",
    "            if loader == 'valid':\n",
    "                Fold_score.append(f1_score(valid_tags , pred_tags,scheme = IOB2))\n",
    "    if Fold_score != []:\n",
    "        All_Fold_score.append(Fold_score)\n",
    "#             if _ == (epochs - 1):\n",
    "#                 print(classification_report(valid_tags, pred_tags,mode='strict',scheme = IOB2))"
   ]
  },
  {
   "cell_type": "code",
   "execution_count": null,
   "id": "careful-weather",
   "metadata": {},
   "outputs": [],
   "source": [
    "All_score = len(All_Fold_score[0]) * [0]\n",
    "for score in All_Fold_score:\n",
    "    All_score = np.sum([All_score,score], axis = 0)\n",
    "All_score = np.round((All_score / 10) , 2)\n",
    "All_score"
   ]
  },
  {
   "cell_type": "markdown",
   "id": "alpha-slovenia",
   "metadata": {},
   "source": [
    "## 全部的 trainingset 訓練 model 後, 透過 validset 評估 model"
   ]
  },
  {
   "cell_type": "code",
   "execution_count": null,
   "id": "stupid-setting",
   "metadata": {},
   "outputs": [],
   "source": [
    "model = BertForTokenClassification.from_pretrained(\n",
    "    model_ty,\n",
    "    num_labels=len(tag2idx),\n",
    "    output_attentions = False,\n",
    "    output_hidden_states = False\n",
    ")\n",
    "optimizer = AdamW(model.parameters(),lr=3e-5,eps=1e-8)\n",
    "scheduler = get_linear_schedule_with_warmup(\n",
    "    optimizer,\n",
    "    num_warmup_steps=0,\n",
    "    num_training_steps=total_steps\n",
    "    )\n",
    "model.cuda()\n",
    "train_dataloader = DataLoader(tr_dataset, batch_size=bs,\n",
    "                            collate_fn=tr_dataset.collate_fn)\n",
    "valid_dataloader = DataLoader(va_dataset, batch_size=bs,\n",
    "                            collate_fn=va_dataset.collate_fn)\n",
    "all_loader = {\n",
    "    \"train\" : train_dataloader,\n",
    "    \"valid\" : valid_dataloader,\n",
    "}"
   ]
  },
  {
   "cell_type": "code",
   "execution_count": null,
   "id": "durable-affiliation",
   "metadata": {
    "scrolled": true
   },
   "outputs": [],
   "source": [
    "F_Score = []\n",
    "for _ in trange(epochs, desc=\"Epoch\"):\n",
    "    for loader in all_loader:\n",
    "        total_loss = 0\n",
    "        # Training loop\n",
    "        predictions , true_labels = [], []\n",
    "        for step, batch in enumerate(all_loader[loader]):\n",
    "            if loader == 'train':\n",
    "                model.train()\n",
    "            else:\n",
    "                model.eval()\n",
    "            batch = tuple(t.to(device) for t in batch)\n",
    "            b_input_ids, b_labels ,b_input_mask = batch\n",
    "            model.zero_grad()\n",
    "            outputs = model(b_input_ids, token_type_ids=None,\n",
    "                            attention_mask=b_input_mask, labels=b_labels)\n",
    "\n",
    "            loss = outputs[0]\n",
    "            loss.backward()\n",
    "            total_loss += loss.item()\n",
    "\n",
    "            if loader == 'train':\n",
    "                torch.nn.utils.clip_grad_norm_(parameters=model.parameters(), max_norm=max_grad_norm)\n",
    "                optimizer.step()\n",
    "                scheduler.step()\n",
    "            logits = outputs[1].detach().cpu().numpy()\n",
    "            label_ids = b_labels.to('cpu').numpy()\n",
    "            predictions.extend([list(p) for p in np.argmax(logits, axis=2)])\n",
    "            true_labels.extend(label_ids)\n",
    "\n",
    "        avg_loss = total_loss / len(all_loader[loader])\n",
    "        print(f\"Average {loader} loss: {avg_loss}\")\n",
    "        pred_tags,valid_tags = [],[]\n",
    "        for p, l in zip(predictions, true_labels):\n",
    "            _p = []\n",
    "            _l = []\n",
    "            for p_i, l_i in zip(p, l):\n",
    "                if tag_values[l_i] != \"PAD\":\n",
    "                    _p.append(tag_values[p_i])\n",
    "                    _l.append(tag_values[l_i])\n",
    "            pred_tags.append(_p)\n",
    "            valid_tags.append(_l)\n",
    "        print(f\"{loader} F1-Score: {f1_score(valid_tags , pred_tags,scheme = IOB2)}\")\n",
    "        if loader == 'valid':\n",
    "            F_Score.append(f1_score(valid_tags , pred_tags,scheme = IOB2))"
   ]
  },
  {
   "cell_type": "code",
   "execution_count": null,
   "id": "impressed-pontiac",
   "metadata": {},
   "outputs": [],
   "source": [
    "np.round(np.array(F_Score),2)"
   ]
  },
  {
   "cell_type": "code",
   "execution_count": null,
   "id": "intellectual-wages",
   "metadata": {},
   "outputs": [],
   "source": []
  }
 ],
 "metadata": {
  "kernelspec": {
   "display_name": "Python 3",
   "language": "python",
   "name": "python3"
  },
  "language_info": {
   "codemirror_mode": {
    "name": "ipython",
    "version": 3
   },
   "file_extension": ".py",
   "mimetype": "text/x-python",
   "name": "python",
   "nbconvert_exporter": "python",
   "pygments_lexer": "ipython3",
   "version": "3.8.5"
  }
 },
 "nbformat": 4,
 "nbformat_minor": 5
}
