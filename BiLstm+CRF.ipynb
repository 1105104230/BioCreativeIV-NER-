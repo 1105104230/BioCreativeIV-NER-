{
 "cells": [
  {
   "cell_type": "code",
   "execution_count": 1,
   "id": "greater-difference",
   "metadata": {},
   "outputs": [],
   "source": [
    "import copy\n",
    "\n",
    "import matplotlib.pyplot as plt\n",
    "import torch\n",
    "from torch.autograd import Variable\n",
    "import torch.nn as nn\n",
    "import torch.nn.functional as F\n",
    "import torch.optim as optim\n",
    "from seqeval.scheme import IOB2\n",
    "from seqeval.metrics import classification_report,f1_score"
   ]
  },
  {
   "cell_type": "code",
   "execution_count": 2,
   "id": "lightweight-frank",
   "metadata": {},
   "outputs": [],
   "source": [
    "import pandas as pd\n",
    "import numpy as np\n",
    "import json\n",
    "from tqdm import tqdm\n",
    "import warnings\n",
    "import random\n",
    "\n",
    "from keras.preprocessing.text import Tokenizer\n",
    "from sklearn.model_selection import KFold"
   ]
  },
  {
   "cell_type": "code",
   "execution_count": 3,
   "id": "recognized-paste",
   "metadata": {},
   "outputs": [],
   "source": [
    "data_train = pd.read_csv(\"BC_train_IOB2.txt\",sep = '\\t')\n",
    "data_dev = pd.read_csv(\"BC_dev_IOB2.txt\",sep = '\\t')"
   ]
  },
  {
   "cell_type": "code",
   "execution_count": 4,
   "id": "continuing-absence",
   "metadata": {},
   "outputs": [
    {
     "data": {
      "text/html": [
       "<div>\n",
       "<style scoped>\n",
       "    .dataframe tbody tr th:only-of-type {\n",
       "        vertical-align: middle;\n",
       "    }\n",
       "\n",
       "    .dataframe tbody tr th {\n",
       "        vertical-align: top;\n",
       "    }\n",
       "\n",
       "    .dataframe thead th {\n",
       "        text-align: right;\n",
       "    }\n",
       "</style>\n",
       "<table border=\"1\" class=\"dataframe\">\n",
       "  <thead>\n",
       "    <tr style=\"text-align: right;\">\n",
       "      <th></th>\n",
       "      <th>Word</th>\n",
       "      <th>Tag</th>\n",
       "      <th>Length</th>\n",
       "      <th>Sentence#</th>\n",
       "    </tr>\n",
       "  </thead>\n",
       "  <tbody>\n",
       "    <tr>\n",
       "      <th>0</th>\n",
       "      <td>@</td>\n",
       "      <td>O</td>\n",
       "      <td>1</td>\n",
       "      <td>0</td>\n",
       "    </tr>\n",
       "    <tr>\n",
       "      <th>1</th>\n",
       "      <td>Rhy_QD10</td>\n",
       "      <td>O</td>\n",
       "      <td>8</td>\n",
       "      <td>0</td>\n",
       "    </tr>\n",
       "    <tr>\n",
       "      <th>2</th>\n",
       "      <td>yeah</td>\n",
       "      <td>O</td>\n",
       "      <td>4</td>\n",
       "      <td>0</td>\n",
       "    </tr>\n",
       "    <tr>\n",
       "      <th>3</th>\n",
       "      <td>irking</td>\n",
       "      <td>O</td>\n",
       "      <td>6</td>\n",
       "      <td>0</td>\n",
       "    </tr>\n",
       "    <tr>\n",
       "      <th>4</th>\n",
       "      <td>he</td>\n",
       "      <td>O</td>\n",
       "      <td>2</td>\n",
       "      <td>0</td>\n",
       "    </tr>\n",
       "    <tr>\n",
       "      <th>...</th>\n",
       "      <td>...</td>\n",
       "      <td>...</td>\n",
       "      <td>...</td>\n",
       "      <td>...</td>\n",
       "    </tr>\n",
       "    <tr>\n",
       "      <th>14779</th>\n",
       "      <td>smell</td>\n",
       "      <td>O</td>\n",
       "      <td>5</td>\n",
       "      <td>704</td>\n",
       "    </tr>\n",
       "    <tr>\n",
       "      <th>14780</th>\n",
       "      <td>like</td>\n",
       "      <td>O</td>\n",
       "      <td>4</td>\n",
       "      <td>704</td>\n",
       "    </tr>\n",
       "    <tr>\n",
       "      <th>14781</th>\n",
       "      <td>dogs</td>\n",
       "      <td>O</td>\n",
       "      <td>4</td>\n",
       "      <td>704</td>\n",
       "    </tr>\n",
       "    <tr>\n",
       "      <th>14782</th>\n",
       "      <td>medicine</td>\n",
       "      <td>O</td>\n",
       "      <td>8</td>\n",
       "      <td>704</td>\n",
       "    </tr>\n",
       "    <tr>\n",
       "      <th>14783</th>\n",
       "      <td>lol</td>\n",
       "      <td>O</td>\n",
       "      <td>3</td>\n",
       "      <td>704</td>\n",
       "    </tr>\n",
       "  </tbody>\n",
       "</table>\n",
       "<p>14784 rows × 4 columns</p>\n",
       "</div>"
      ],
      "text/plain": [
       "           Word Tag  Length  Sentence#\n",
       "0             @   O       1          0\n",
       "1      Rhy_QD10   O       8          0\n",
       "2          yeah   O       4          0\n",
       "3        irking   O       6          0\n",
       "4            he   O       2          0\n",
       "...         ...  ..     ...        ...\n",
       "14779     smell   O       5        704\n",
       "14780      like   O       4        704\n",
       "14781      dogs   O       4        704\n",
       "14782  medicine   O       8        704\n",
       "14783       lol   O       3        704\n",
       "\n",
       "[14784 rows x 4 columns]"
      ]
     },
     "execution_count": 4,
     "metadata": {},
     "output_type": "execute_result"
    }
   ],
   "source": [
    "data_train"
   ]
  },
  {
   "cell_type": "code",
   "execution_count": 5,
   "id": "wireless-academy",
   "metadata": {},
   "outputs": [],
   "source": [
    "class SentenceGetter(object):\n",
    "    \n",
    "    def __init__(self, data):\n",
    "        self.n_sent = 1\n",
    "        self.data = data\n",
    "        self.empty = False\n",
    "        agg_func = lambda s: [(w, t) for w, t in zip(s[\"Word\"].values.tolist(),\n",
    "                                                     s[\"Tag\"].values.tolist())]\n",
    "        self.grouped = self.data.groupby(\"Sentence#\").apply(agg_func)\n",
    "        self.sentences = [s for s in self.grouped]\n",
    "    \n",
    "    def get_next(self):\n",
    "        try:\n",
    "            s = self.grouped[self.n_sent]\n",
    "            self.n_sent += 1\n",
    "            return s\n",
    "        except:\n",
    "            return None"
   ]
  },
  {
   "cell_type": "code",
   "execution_count": 6,
   "id": "approximate-holiday",
   "metadata": {},
   "outputs": [],
   "source": [
    "getter = SentenceGetter(data_train)\n",
    "dev_getter = SentenceGetter(data_dev)"
   ]
  },
  {
   "cell_type": "code",
   "execution_count": 7,
   "id": "infinite-landscape",
   "metadata": {},
   "outputs": [],
   "source": [
    "sentences = [[word[0] for word in sentence] for sentence in getter.sentences]\n",
    "dev_sentences = [[word[0] for word in sentence] for sentence in dev_getter.sentences]\n",
    "labels = [[s[1] for s in sent] for sent in getter.sentences]\n",
    "dev_labels = [[s[1] for s in sent] for sent in dev_getter.sentences]"
   ]
  },
  {
   "cell_type": "code",
   "execution_count": 8,
   "id": "interested-isaac",
   "metadata": {},
   "outputs": [],
   "source": [
    "max_features = 40000\n",
    "tokenizer = Tokenizer(num_words=max_features, split=' ', oov_token='<unk>')\n",
    "tokenizer.fit_on_texts(sentences)"
   ]
  },
  {
   "cell_type": "code",
   "execution_count": 9,
   "id": "given-fifth",
   "metadata": {},
   "outputs": [],
   "source": [
    "word2idx = tokenizer.word_index.copy()\n",
    "word2idx['<pad>'] = 0\n",
    "idx2word = {word2idx[i]:i for i in word2idx}"
   ]
  },
  {
   "cell_type": "code",
   "execution_count": 10,
   "id": "understood-vietnamese",
   "metadata": {},
   "outputs": [
    {
     "data": {
      "text/plain": [
       "1328"
      ]
     },
     "execution_count": 10,
     "metadata": {},
     "output_type": "execute_result"
    }
   ],
   "source": [
    "len(word2idx)"
   ]
  },
  {
   "cell_type": "code",
   "execution_count": 11,
   "id": "faced-slovakia",
   "metadata": {},
   "outputs": [],
   "source": [
    "tags = list(set(data_train['Tag'].values))\n",
    "tags.append(\"<pad>\")\n",
    "tag2idx = {t: i for i, t in enumerate(tags)}\n",
    "idx2tag = {i: t for i, t in enumerate(tags)}"
   ]
  },
  {
   "cell_type": "code",
   "execution_count": 12,
   "id": "graphic-audit",
   "metadata": {},
   "outputs": [],
   "source": [
    "X_train = tokenizer.texts_to_sequences(sentences)\n",
    "X_test = tokenizer.texts_to_sequences(dev_sentences)\n",
    "y_train = [[tag2idx[l] for l in s] for s in labels]\n",
    "y_test = [[tag2idx[l] for l in s] for s in dev_labels]"
   ]
  },
  {
   "cell_type": "code",
   "execution_count": 13,
   "id": "applied-marsh",
   "metadata": {},
   "outputs": [
    {
     "name": "stdout",
     "output_type": "stream",
     "text": [
      "just get on birth control and use two <unk> . oh and do n't have <unk> when <unk> . "
     ]
    }
   ],
   "source": [
    "for i in X_test[0]:\n",
    "    print(idx2word[i],end = ' ')"
   ]
  },
  {
   "cell_type": "code",
   "execution_count": 14,
   "id": "stock-scout",
   "metadata": {},
   "outputs": [],
   "source": [
    "from torch.utils.data import Dataset\n",
    "from torchcrf import CRF\n",
    "class NERDataset(Dataset):\n",
    "    def __init__(self,sentences,labels, word_pad_idx, tag_pad_idx, max_len = 500):\n",
    "        self.sentences = sentences\n",
    "        self.labels = labels\n",
    "        self.word_pad_idx = word_pad_idx\n",
    "        self.tag_pad_idx = tag_pad_idx\n",
    "        self.max_len = max_len\n",
    "    def __len__(self):\n",
    "        return len(self.sentences)\n",
    "\n",
    "    def __getitem__(self, index):\n",
    "        return (self.sentences[index],self.labels[index])\n",
    "        \n",
    "    def collate_fn(self, datasets):\n",
    "        sentences = [dataset[0] for dataset in datasets]\n",
    "        labels = [dataset[1] for dataset in datasets]\n",
    "        max_sent = max([len(data) for data in sentences])\n",
    "        max_len = max([min(len(sentence), self.max_len) for sentence in sentences])\n",
    "        pad_sentence = []\n",
    "        pad_label = []\n",
    "        for sentence,label in zip(sentences,labels):\n",
    "            \n",
    "            if len(sentence) > max_len:\n",
    "#                 print('asd')\n",
    "                pad_sentence.append(sentence[:max_len])\n",
    "                pad_label.append(label[:max_len])\n",
    "            else:\n",
    "#                 print('zxc')\n",
    "                pad_sentence.append(sentence+[self.word_pad_idx]*(max_len-len(sentence)))\n",
    "                pad_label.append(label+[self.tag_pad_idx]*(max_len-len(label)))\n",
    "        return torch.LongTensor(pad_sentence), torch.LongTensor(pad_label)"
   ]
  },
  {
   "cell_type": "code",
   "execution_count": 15,
   "id": "scenic-constraint",
   "metadata": {},
   "outputs": [],
   "source": [
    "class EmbeddedRnn(nn.Module):\n",
    "    def __init__(self, vocab, hidden_dim, output_vocab, n_layer,word_pad_idx,tag_pad_idx):\n",
    "        super(EmbeddedRnn, self).__init__()\n",
    "        self.n_layer = n_layer\n",
    "        self.embedding_size = 300\n",
    "        self.hidden_dim = hidden_dim\n",
    "        self.embedded = nn.Embedding(vocab, self.embedding_size , padding_idx  = word_pad_idx)\n",
    "        self.lstm = nn.LSTM(self.embedding_size, hidden_dim, num_layers=n_layer,batch_first = True, bidirectional=True)\n",
    "        self.fc1 = nn.Linear(2 * hidden_dim, output_vocab)\n",
    "        self.softmax = nn.Softmax(dim=-1)\n",
    "        self.sigmoid = nn.Sigmoid()\n",
    "        self.relu = nn.ReLU()\n",
    "        self.crf = CRF(num_tags=output_vocab, batch_first = True)\n",
    "        self.tag_pad_idx = tag_pad_idx\n",
    "        \n",
    "    def forward(self, x, hidden,y_tag):\n",
    "        embedded = self.embedded(x)\n",
    "        output, hidden = self.lstm(embedded, hidden)\n",
    "        output = self.fc1(output)\n",
    "        if y_tag is not None:\n",
    "            mask = y_tag != self.tag_pad_idx\n",
    "            crf_out = self.crf.decode(output, mask=mask)\n",
    "            crf_loss = -self.crf(output, tags=y_tag, mask=mask)\n",
    "        else:\n",
    "            crf_out = self.crf.decode(output)\n",
    "            crf_loss = None\n",
    "        return crf_out, crf_loss\n",
    "    \n",
    "    def initHidden(self, batch_size):\n",
    "        hidden = Variable(torch.zeros(2 * self.n_layer, batch_size, self.hidden_dim))\n",
    "        cell = Variable(torch.zeros(2 * self.n_layer, batch_size, self.hidden_dim))\n",
    "        return [hidden, cell]\n",
    "#         return hidden\n",
    "    def init_crf_transitions(tag_names, imp_value=-100):\n",
    "        crf = CRF(num_tags=n_tags)\n",
    "        num_tags = len(tag_names)\n",
    "        for i in range(num_tags):\n",
    "            tag_name = tag_names[i]\n",
    "            if tag_name[0] in (\"I\") or tag_name[0] in (\"L\") or tag_name == \"ENDPAD\":\n",
    "                torch.nn.init.constant_(crf.start_transitions[i], imp_value)\n",
    "        tag_is = {}\n",
    "        for tag_position in (\"B\", \"I\", \"O\", 'L','U'):\n",
    "            tag_is[tag_position] = [i for i, tag in enumerate(tag_names) if tag[0] == tag_position]\n",
    "        impossible_transitions_position = {\n",
    "            \"O\": \"I\",  \n",
    "            \"O\": 'L',\n",
    "            \n",
    "            'B': 'U',\n",
    "            'B': 'I',\n",
    "            \n",
    "            'I': 'B',\n",
    "            'I': 'U',\n",
    "            'I': 'O',\n",
    "            \n",
    "            'L': 'I',\n",
    "            \n",
    "            'U': 'I',\n",
    "            'U': 'L',\n",
    "        }\n",
    "        for from_tag, to_tag_list in impossible_transitions_position.items():\n",
    "            to_tags = list(to_tag_list)\n",
    "            for from_tag_i in tag_is[from_tag]:\n",
    "                for to_tag in to_tags:\n",
    "                    for to_tag_i in tag_is[to_tag]:\n",
    "                        torch.nn.init.constant_(\n",
    "                            crf.transitions[from_tag_i, to_tag_i], imp_value\n",
    "                        )\n",
    "        # init impossible B and I transitions to different entity types\n",
    "        impossible_transitions_tags = {\n",
    "            \"B\": \"I\",\n",
    "            'B': 'L',\n",
    "            \"I\": \"I\",\n",
    "            'I': 'L',\n",
    "            'U': 'B',\n",
    "        }\n",
    "        for from_tag, to_tag_list in impossible_transitions_tags.items():\n",
    "            to_tags = list(to_tag_list)\n",
    "            for from_tag_i in tag_is[from_tag]:\n",
    "                for to_tag in to_tags:\n",
    "                    for to_tag_i in tag_is[to_tag]:\n",
    "                        if tag_names[from_tag_i].split(\"-\")[1] != tag_names[to_tag_i].split(\"-\")[1]:\n",
    "                            torch.nn.init.constant_(\n",
    "                                crf.transitions[from_tag_i, to_tag_i], imp_value\n",
    "                            )"
   ]
  },
  {
   "cell_type": "markdown",
   "id": "sexual-pickup",
   "metadata": {},
   "source": [
    "## 使用 trainingset+validset 去做 10-fold CV"
   ]
  },
  {
   "cell_type": "code",
   "execution_count": 16,
   "id": "passive-completion",
   "metadata": {},
   "outputs": [],
   "source": [
    "from torch.utils.data import TensorDataset, DataLoader ,SubsetRandomSampler ,ConcatDataset\n",
    "bs = 16\n",
    "k_folds = 10\n",
    "kfold = KFold(n_splits=k_folds, shuffle=True)\n",
    "tr_dataset = NERDataset(X_train,y_train,word2idx['<pad>'],tag2idx['<pad>'])\n",
    "va_dataset = NERDataset(X_test,y_test,word2idx['<pad>'],tag2idx['<pad>'])\n",
    "dataset = ConcatDataset([tr_dataset, va_dataset])\n",
    "word_pad_idx = word2idx['<pad>']\n",
    "tag_pad_idx = tag2idx['<pad>']\n",
    "num_epoch = 10\n",
    "device = torch.device(\"cuda\" if torch.cuda.is_available() else \"cpu\")"
   ]
  },
  {
   "cell_type": "code",
   "execution_count": 17,
   "id": "equivalent-blame",
   "metadata": {
    "scrolled": true
   },
   "outputs": [
    {
     "name": "stdout",
     "output_type": "stream",
     "text": [
      "FOLD 0\n",
      "--------------------------------\n"
     ]
    },
    {
     "name": "stderr",
     "output_type": "stream",
     "text": [
      "\r",
      "  0%|                                                                                           | 0/10 [00:00<?, ?it/s]"
     ]
    },
    {
     "name": "stdout",
     "output_type": "stream",
     "text": [
      "\n"
     ]
    },
    {
     "name": "stderr",
     "output_type": "stream",
     "text": [
      "C:\\ProgramData\\Anaconda3\\lib\\site-packages\\seqeval\\metrics\\sequence_labeling.py:171: UserWarning: <pad> seems not to be NE tag.\n",
      "  warnings.warn('{} seems not to be NE tag.'.format(chunk))\n",
      "\r",
      " 10%|████████▎                                                                          | 1/10 [00:03<00:31,  3.52s/it]"
     ]
    },
    {
     "name": "stdout",
     "output_type": "stream",
     "text": [
      "train_loss : 1.0442178495552228\n",
      "train_F1: 0.453355155482815\n",
      "valid_loss : 0.2164492905139923\n",
      "valid_F1: 0.8604651162790699\n",
      "\n"
     ]
    },
    {
     "name": "stderr",
     "output_type": "stream",
     "text": [
      "\r",
      " 20%|████████████████▌                                                                  | 2/10 [00:06<00:24,  3.09s/it]"
     ]
    },
    {
     "name": "stdout",
     "output_type": "stream",
     "text": [
      "train_loss : 0.2118674526396005\n",
      "train_F1: 0.8717607973421927\n",
      "valid_loss : 0.12267504135767619\n",
      "valid_F1: 0.9447852760736196\n",
      "\n"
     ]
    },
    {
     "name": "stderr",
     "output_type": "stream",
     "text": [
      "\r",
      " 30%|████████████████████████▉                                                          | 3/10 [00:09<00:20,  2.98s/it]"
     ]
    },
    {
     "name": "stdout",
     "output_type": "stream",
     "text": [
      "train_loss : 0.15433670288842657\n",
      "train_F1: 0.8952254641909814\n",
      "valid_loss : 0.13719341158866882\n",
      "valid_F1: 0.934131736526946\n",
      "\n"
     ]
    },
    {
     "name": "stderr",
     "output_type": "stream",
     "text": [
      "\r",
      " 40%|█████████████████████████████████▏                                                 | 4/10 [00:12<00:17,  2.95s/it]"
     ]
    },
    {
     "name": "stdout",
     "output_type": "stream",
     "text": [
      "train_loss : 0.10282802193061165\n",
      "train_F1: 0.9065420560747665\n",
      "valid_loss : 0.16306322813034058\n",
      "valid_F1: 0.9125\n",
      "\n"
     ]
    },
    {
     "name": "stderr",
     "output_type": "stream",
     "text": [
      "\r",
      " 50%|█████████████████████████████████████████▌                                         | 5/10 [00:14<00:14,  2.91s/it]"
     ]
    },
    {
     "name": "stdout",
     "output_type": "stream",
     "text": [
      "train_loss : 0.08690741042728009\n",
      "train_F1: 0.9082256968048947\n",
      "valid_loss : 0.12125401695569356\n",
      "valid_F1: 0.9240506329113924\n",
      "\n"
     ]
    },
    {
     "name": "stderr",
     "output_type": "stream",
     "text": [
      "\r",
      " 60%|█████████████████████████████████████████████████▊                                 | 6/10 [00:17<00:11,  2.91s/it]"
     ]
    },
    {
     "name": "stdout",
     "output_type": "stream",
     "text": [
      "train_loss : 0.07717215334591658\n",
      "train_F1: 0.9111111111111111\n",
      "valid_loss : 0.1494238426287969\n",
      "valid_F1: 0.9192546583850932\n",
      "\n",
      "train_loss : 0.06970002534596817\n",
      "train_F1: 0.9125168236877523\n",
      "valid_loss : 0.18335077166557312\n",
      "valid_F1: 0.8982035928143713"
     ]
    },
    {
     "name": "stderr",
     "output_type": "stream",
     "text": [
      "\r",
      " 70%|██████████████████████████████████████████████████████████                         | 7/10 [00:20<00:08,  2.87s/it]"
     ]
    },
    {
     "name": "stdout",
     "output_type": "stream",
     "text": [
      "\n",
      "\n"
     ]
    },
    {
     "name": "stderr",
     "output_type": "stream",
     "text": [
      "\r",
      " 80%|██████████████████████████████████████████████████████████████████▍                | 8/10 [00:23<00:05,  2.87s/it]"
     ]
    },
    {
     "name": "stdout",
     "output_type": "stream",
     "text": [
      "train_loss : 0.06264131807762643\n",
      "train_F1: 0.9216909216909218\n",
      "valid_loss : 0.19721119602521262\n",
      "valid_F1: 0.9146341463414634\n",
      "\n"
     ]
    },
    {
     "name": "stderr",
     "output_type": "stream",
     "text": [
      "\r",
      " 90%|██████████████████████████████████████████████████████████████████████████▋        | 9/10 [00:26<00:02,  2.87s/it]"
     ]
    },
    {
     "name": "stdout",
     "output_type": "stream",
     "text": [
      "train_loss : 0.0595356575820757\n",
      "train_F1: 0.926330150068213\n",
      "valid_loss : 0.21213054160277048\n",
      "valid_F1: 0.8848484848484849\n",
      "\n"
     ]
    },
    {
     "name": "stderr",
     "output_type": "stream",
     "text": [
      "\r",
      "100%|██████████████████████████████████████████████████████████████████████████████████| 10/10 [00:29<00:00,  2.85s/it]"
     ]
    },
    {
     "name": "stdout",
     "output_type": "stream",
     "text": [
      "train_loss : 0.058006096793257675\n",
      "train_F1: 0.9255393180236604\n",
      "valid_loss : 0.22351795931657156\n",
      "valid_F1: 0.9182389937106918\n"
     ]
    },
    {
     "name": "stderr",
     "output_type": "stream",
     "text": [
      "100%|██████████████████████████████████████████████████████████████████████████████████| 10/10 [00:29<00:00,  2.91s/it]\n",
      "  0%|                                                                                           | 0/10 [00:00<?, ?it/s]"
     ]
    },
    {
     "name": "stdout",
     "output_type": "stream",
     "text": [
      "FOLD 1\n",
      "--------------------------------\n",
      "\n"
     ]
    },
    {
     "name": "stderr",
     "output_type": "stream",
     "text": [
      "\r",
      " 10%|████████▎                                                                          | 1/10 [00:03<00:27,  3.03s/it]"
     ]
    },
    {
     "name": "stdout",
     "output_type": "stream",
     "text": [
      "train_loss : 1.0214742846463039\n",
      "train_F1: 0.4137931034482759\n",
      "valid_loss : 0.275197500983874\n",
      "valid_F1: 0.8354430379746836\n",
      "\n"
     ]
    },
    {
     "name": "stderr",
     "output_type": "stream",
     "text": [
      "\r",
      " 20%|████████████████▌                                                                  | 2/10 [00:05<00:23,  2.90s/it]"
     ]
    },
    {
     "name": "stdout",
     "output_type": "stream",
     "text": [
      "train_loss : 0.21957138925790787\n",
      "train_F1: 0.8722109533468559\n",
      "valid_loss : 0.17739402254422507\n",
      "valid_F1: 0.8941176470588234\n",
      "\n"
     ]
    },
    {
     "name": "stderr",
     "output_type": "stream",
     "text": [
      "\r",
      " 30%|████████████████████████▉                                                          | 3/10 [00:08<00:20,  2.87s/it]"
     ]
    },
    {
     "name": "stdout",
     "output_type": "stream",
     "text": [
      "train_loss : 0.14509571635204813\n",
      "train_F1: 0.898861352980576\n",
      "valid_loss : 0.1313612312078476\n",
      "valid_F1: 0.8588957055214724\n",
      "\n"
     ]
    },
    {
     "name": "stderr",
     "output_type": "stream",
     "text": [
      "\r",
      " 40%|█████████████████████████████████▏                                                 | 4/10 [00:11<00:17,  2.88s/it]"
     ]
    },
    {
     "name": "stdout",
     "output_type": "stream",
     "text": [
      "train_loss : 0.10729622873275177\n",
      "train_F1: 0.9040163376446563\n",
      "valid_loss : 0.13695518672466278\n",
      "valid_F1: 0.860759493670886\n",
      "\n"
     ]
    },
    {
     "name": "stderr",
     "output_type": "stream",
     "text": [
      "\r",
      " 50%|█████████████████████████████████████████▌                                         | 5/10 [00:14<00:14,  2.91s/it]"
     ]
    },
    {
     "name": "stdout",
     "output_type": "stream",
     "text": [
      "train_loss : 0.08556999168966127\n",
      "train_F1: 0.9156956819739548\n",
      "valid_loss : 0.1383363902568817\n",
      "valid_F1: 0.8500000000000001\n",
      "\n"
     ]
    },
    {
     "name": "stderr",
     "output_type": "stream",
     "text": [
      "\r",
      " 60%|█████████████████████████████████████████████████▊                                 | 6/10 [00:17<00:11,  2.94s/it]"
     ]
    },
    {
     "name": "stdout",
     "output_type": "stream",
     "text": [
      "train_loss : 0.07415454186823058\n",
      "train_F1: 0.9186602870813397\n",
      "valid_loss : 0.12091301878293355\n",
      "valid_F1: 0.8862275449101796\n",
      "\n"
     ]
    },
    {
     "name": "stderr",
     "output_type": "stream",
     "text": [
      "\r",
      " 70%|██████████████████████████████████████████████████████████                         | 7/10 [00:20<00:08,  2.93s/it]"
     ]
    },
    {
     "name": "stdout",
     "output_type": "stream",
     "text": [
      "train_loss : 0.06697391005961792\n",
      "train_F1: 0.9192200557103064\n",
      "valid_loss : 0.11088752746582031\n",
      "valid_F1: 0.8622754491017963\n",
      "\n"
     ]
    },
    {
     "name": "stderr",
     "output_type": "stream",
     "text": [
      "\r",
      " 80%|██████████████████████████████████████████████████████████████████▍                | 8/10 [00:23<00:05,  2.89s/it]"
     ]
    },
    {
     "name": "stdout",
     "output_type": "stream",
     "text": [
      "train_loss : 0.06736362401558005\n",
      "train_F1: 0.9167240192704749\n",
      "valid_loss : 0.12997986872990927\n",
      "valid_F1: 0.8701298701298701\n",
      "\n"
     ]
    },
    {
     "name": "stderr",
     "output_type": "stream",
     "text": [
      "\r",
      " 90%|██████████████████████████████████████████████████████████████████████████▋        | 9/10 [00:26<00:02,  2.88s/it]"
     ]
    },
    {
     "name": "stdout",
     "output_type": "stream",
     "text": [
      "train_loss : 0.06214010067608045\n",
      "train_F1: 0.9229711141678129\n",
      "valid_loss : 0.11943572759628296\n",
      "valid_F1: 0.8395061728395061\n",
      "\n"
     ]
    },
    {
     "name": "stderr",
     "output_type": "stream",
     "text": [
      "100%|██████████████████████████████████████████████████████████████████████████████████| 10/10 [00:28<00:00,  2.89s/it]\n",
      "  0%|                                                                                           | 0/10 [00:00<?, ?it/s]"
     ]
    },
    {
     "name": "stdout",
     "output_type": "stream",
     "text": [
      "train_loss : 0.06273515716842983\n",
      "train_F1: 0.919972164231037\n",
      "valid_loss : 0.11923639973004659\n",
      "valid_F1: 0.8674698795180723\n",
      "FOLD 2\n",
      "--------------------------------\n",
      "\n"
     ]
    },
    {
     "name": "stderr",
     "output_type": "stream",
     "text": [
      "\r",
      " 10%|████████▎                                                                          | 1/10 [00:02<00:25,  2.88s/it]"
     ]
    },
    {
     "name": "stdout",
     "output_type": "stream",
     "text": [
      "train_loss : 0.9675028499053873\n",
      "train_F1: 0.4852941176470589\n",
      "valid_loss : 0.2682473932703336\n",
      "valid_F1: 0.8513513513513513\n",
      "\n"
     ]
    },
    {
     "name": "stderr",
     "output_type": "stream",
     "text": [
      "\r",
      " 20%|████████████████▌                                                                  | 2/10 [00:05<00:23,  2.90s/it]"
     ]
    },
    {
     "name": "stdout",
     "output_type": "stream",
     "text": [
      "train_loss : 0.20133513050234836\n",
      "train_F1: 0.8792528352234823\n",
      "valid_loss : 0.16835667937994003\n",
      "valid_F1: 0.8606060606060606\n",
      "\n"
     ]
    },
    {
     "name": "stderr",
     "output_type": "stream",
     "text": [
      "\r",
      " 30%|████████████████████████▉                                                          | 3/10 [00:08<00:19,  2.85s/it]"
     ]
    },
    {
     "name": "stdout",
     "output_type": "stream",
     "text": [
      "train_loss : 0.1412908353883287\n",
      "train_F1: 0.899009900990099\n",
      "valid_loss : 0.15195515751838684\n",
      "valid_F1: 0.8846153846153846\n",
      "\n"
     ]
    },
    {
     "name": "stderr",
     "output_type": "stream",
     "text": [
      "\r",
      " 40%|█████████████████████████████████▏                                                 | 4/10 [00:11<00:17,  2.87s/it]"
     ]
    },
    {
     "name": "stdout",
     "output_type": "stream",
     "text": [
      "train_loss : 0.09876601106446722\n",
      "train_F1: 0.9072580645161291\n",
      "valid_loss : 0.14167756338914236\n",
      "valid_F1: 0.87248322147651\n",
      "\n"
     ]
    },
    {
     "name": "stderr",
     "output_type": "stream",
     "text": [
      "\r",
      " 50%|█████████████████████████████████████████▌                                         | 5/10 [00:14<00:14,  2.87s/it]"
     ]
    },
    {
     "name": "stdout",
     "output_type": "stream",
     "text": [
      "train_loss : 0.0836430817194607\n",
      "train_F1: 0.9022038567493113\n",
      "valid_loss : 0.1123570700486501\n",
      "valid_F1: 0.888888888888889\n",
      "\n"
     ]
    },
    {
     "name": "stderr",
     "output_type": "stream",
     "text": [
      "\r",
      " 60%|█████████████████████████████████████████████████▊                                 | 6/10 [00:17<00:11,  2.91s/it]"
     ]
    },
    {
     "name": "stdout",
     "output_type": "stream",
     "text": [
      "train_loss : 0.06924710325572801\n",
      "train_F1: 0.9189944134078212\n",
      "valid_loss : 0.16334273417790732\n",
      "valid_F1: 0.8903225806451613\n",
      "\n"
     ]
    },
    {
     "name": "stderr",
     "output_type": "stream",
     "text": [
      "\r",
      " 70%|██████████████████████████████████████████████████████████                         | 7/10 [00:20<00:08,  2.89s/it]"
     ]
    },
    {
     "name": "stdout",
     "output_type": "stream",
     "text": [
      "train_loss : 0.06656149224094722\n",
      "train_F1: 0.9258241758241759\n",
      "valid_loss : 0.12082989017168681\n",
      "valid_F1: 0.8974358974358974\n",
      "\n"
     ]
    },
    {
     "name": "stderr",
     "output_type": "stream",
     "text": [
      "\r",
      " 80%|██████████████████████████████████████████████████████████████████▍                | 8/10 [00:23<00:05,  2.92s/it]"
     ]
    },
    {
     "name": "stdout",
     "output_type": "stream",
     "text": [
      "train_loss : 0.06585031359092049\n",
      "train_F1: 0.9226557152635183\n",
      "valid_loss : 0.14129778742790222\n",
      "valid_F1: 0.8831168831168831\n",
      "\n"
     ]
    },
    {
     "name": "stderr",
     "output_type": "stream",
     "text": [
      "\r",
      " 90%|██████████████████████████████████████████████████████████████████████████▋        | 9/10 [00:26<00:02,  2.89s/it]"
     ]
    },
    {
     "name": "stdout",
     "output_type": "stream",
     "text": [
      "train_loss : 0.061542586787887245\n",
      "train_F1: 0.9170731707317072\n",
      "valid_loss : 0.12906432648499808\n",
      "valid_F1: 0.8933333333333333\n",
      "\n"
     ]
    },
    {
     "name": "stderr",
     "output_type": "stream",
     "text": [
      "100%|██████████████████████████████████████████████████████████████████████████████████| 10/10 [00:28<00:00,  2.90s/it]\n",
      "  0%|                                                                                           | 0/10 [00:00<?, ?it/s]"
     ]
    },
    {
     "name": "stdout",
     "output_type": "stream",
     "text": [
      "train_loss : 0.06021994481916013\n",
      "train_F1: 0.9203664552501761\n",
      "valid_loss : 0.167593980828921\n",
      "valid_F1: 0.8918918918918919\n",
      "FOLD 3\n",
      "--------------------------------\n",
      "\n"
     ]
    },
    {
     "name": "stderr",
     "output_type": "stream",
     "text": [
      "\r",
      " 10%|████████▎                                                                          | 1/10 [00:02<00:26,  2.91s/it]"
     ]
    },
    {
     "name": "stdout",
     "output_type": "stream",
     "text": [
      "train_loss : 1.0143362484548404\n",
      "train_F1: 0.49409780775716694\n",
      "valid_loss : 0.2545907547076543\n",
      "valid_F1: 0.8275862068965517\n",
      "\n"
     ]
    },
    {
     "name": "stderr",
     "output_type": "stream",
     "text": [
      "\r",
      " 20%|████████████████▌                                                                  | 2/10 [00:05<00:23,  2.95s/it]"
     ]
    },
    {
     "name": "stdout",
     "output_type": "stream",
     "text": [
      "train_loss : 0.20156753289958704\n",
      "train_F1: 0.8872581721147431\n",
      "valid_loss : 0.19490453600883484\n",
      "valid_F1: 0.8823529411764706\n",
      "\n"
     ]
    },
    {
     "name": "stderr",
     "output_type": "stream",
     "text": [
      "\r",
      " 30%|████████████████████████▉                                                          | 3/10 [00:08<00:20,  2.90s/it]"
     ]
    },
    {
     "name": "stdout",
     "output_type": "stream",
     "text": [
      "train_loss : 0.13459298306185266\n",
      "train_F1: 0.902488231338265\n",
      "valid_loss : 0.1650985380013784\n",
      "valid_F1: 0.8969696969696969\n",
      "\n"
     ]
    },
    {
     "name": "stderr",
     "output_type": "stream",
     "text": [
      "\r",
      " 40%|█████████████████████████████████▏                                                 | 4/10 [00:11<00:17,  2.93s/it]"
     ]
    },
    {
     "name": "stdout",
     "output_type": "stream",
     "text": [
      "train_loss : 0.09793117707190306\n",
      "train_F1: 0.9151391717583164\n",
      "valid_loss : 0.2201439986626307\n",
      "valid_F1: 0.8641975308641975\n",
      "\n",
      "train_loss : 0.0802116633757301\n",
      "train_F1: 0.9093387866394002\n",
      "valid_loss : 0.22494809329509735\n",
      "valid_F1: 0.8624999999999999"
     ]
    },
    {
     "name": "stderr",
     "output_type": "stream",
     "text": [
      "\r",
      " 50%|█████████████████████████████████████████▌                                         | 5/10 [00:14<00:14,  2.95s/it]"
     ]
    },
    {
     "name": "stdout",
     "output_type": "stream",
     "text": [
      "\n",
      "\n"
     ]
    },
    {
     "name": "stderr",
     "output_type": "stream",
     "text": [
      "\r",
      " 60%|█████████████████████████████████████████████████▊                                 | 6/10 [00:17<00:11,  2.97s/it]"
     ]
    },
    {
     "name": "stdout",
     "output_type": "stream",
     "text": [
      "train_loss : 0.06866942993972612\n",
      "train_F1: 0.9192200557103064\n",
      "valid_loss : 0.24146036803722382\n",
      "valid_F1: 0.8571428571428572\n",
      "\n"
     ]
    },
    {
     "name": "stderr",
     "output_type": "stream",
     "text": [
      "\r",
      " 70%|██████████████████████████████████████████████████████████                         | 7/10 [00:20<00:08,  2.94s/it]"
     ]
    },
    {
     "name": "stdout",
     "output_type": "stream",
     "text": [
      "train_loss : 0.06168718247309975\n",
      "train_F1: 0.9211618257261411\n",
      "valid_loss : 0.26307331522305805\n",
      "valid_F1: 0.8819875776397514\n",
      "\n"
     ]
    },
    {
     "name": "stderr",
     "output_type": "stream",
     "text": [
      "\r",
      " 80%|██████████████████████████████████████████████████████████████████▍                | 8/10 [00:23<00:05,  2.93s/it]"
     ]
    },
    {
     "name": "stdout",
     "output_type": "stream",
     "text": [
      "train_loss : 0.05881759459557741\n",
      "train_F1: 0.926490984743412\n",
      "valid_loss : 0.2668558855851491\n",
      "valid_F1: 0.8588957055214724\n",
      "\n"
     ]
    },
    {
     "name": "stderr",
     "output_type": "stream",
     "text": [
      "\r",
      " 90%|██████████████████████████████████████████████████████████████████████████▋        | 9/10 [00:26<00:02,  2.91s/it]"
     ]
    },
    {
     "name": "stdout",
     "output_type": "stream",
     "text": [
      "train_loss : 0.05705782123233961\n",
      "train_F1: 0.9232895646164477\n",
      "valid_loss : 0.28795959055423737\n",
      "valid_F1: 0.8734177215189873\n",
      "\n"
     ]
    },
    {
     "name": "stderr",
     "output_type": "stream",
     "text": [
      "100%|██████████████████████████████████████████████████████████████████████████████████| 10/10 [00:29<00:00,  2.93s/it]\n",
      "  0%|                                                                                           | 0/10 [00:00<?, ?it/s]"
     ]
    },
    {
     "name": "stdout",
     "output_type": "stream",
     "text": [
      "train_loss : 0.05602396247179612\n",
      "train_F1: 0.9355281207133059\n",
      "valid_loss : 0.2871881077686946\n",
      "valid_F1: 0.8789808917197451\n",
      "FOLD 4\n",
      "--------------------------------\n",
      "\n"
     ]
    },
    {
     "name": "stderr",
     "output_type": "stream",
     "text": [
      "\r",
      " 10%|████████▎                                                                          | 1/10 [00:02<00:26,  2.95s/it]"
     ]
    },
    {
     "name": "stdout",
     "output_type": "stream",
     "text": [
      "train_loss : 1.0348913928736811\n",
      "train_F1: 0.5314091680814941\n",
      "valid_loss : 0.19956830392281213\n",
      "valid_F1: 0.8500000000000001\n",
      "\n"
     ]
    },
    {
     "name": "stderr",
     "output_type": "stream",
     "text": [
      "\r",
      " 20%|████████████████▌                                                                  | 2/10 [00:05<00:23,  2.97s/it]"
     ]
    },
    {
     "name": "stdout",
     "output_type": "stream",
     "text": [
      "train_loss : 0.2100717094929322\n",
      "train_F1: 0.8662593346911067\n",
      "valid_loss : 0.12068269898494084\n",
      "valid_F1: 0.9156626506024096\n",
      "\n"
     ]
    },
    {
     "name": "stderr",
     "output_type": "stream",
     "text": [
      "\r",
      " 30%|████████████████████████▉                                                          | 3/10 [00:08<00:20,  3.00s/it]"
     ]
    },
    {
     "name": "stdout",
     "output_type": "stream",
     "text": [
      "train_loss : 0.13772446986125864\n",
      "train_F1: 0.9010695187165775\n",
      "valid_loss : 0.12344420949618022\n",
      "valid_F1: 0.8765432098765432\n",
      "\n"
     ]
    },
    {
     "name": "stderr",
     "output_type": "stream",
     "text": [
      "\r",
      " 40%|█████████████████████████████████▏                                                 | 4/10 [00:11<00:17,  2.98s/it]"
     ]
    },
    {
     "name": "stdout",
     "output_type": "stream",
     "text": [
      "train_loss : 0.11101098293843477\n",
      "train_F1: 0.9012178619756427\n",
      "valid_loss : 0.1110730121533076\n",
      "valid_F1: 0.8674698795180723\n",
      "\n"
     ]
    },
    {
     "name": "stderr",
     "output_type": "stream",
     "text": [
      "\r",
      " 50%|█████████████████████████████████████████▌                                         | 5/10 [00:14<00:14,  2.91s/it]"
     ]
    },
    {
     "name": "stdout",
     "output_type": "stream",
     "text": [
      "train_loss : 0.08939832286990207\n",
      "train_F1: 0.9054325955734407\n",
      "valid_loss : 0.12312527497609456\n",
      "valid_F1: 0.8902439024390244\n",
      "\n"
     ]
    },
    {
     "name": "stderr",
     "output_type": "stream",
     "text": [
      "\r",
      " 60%|█████████████████████████████████████████████████▊                                 | 6/10 [00:17<00:11,  2.89s/it]"
     ]
    },
    {
     "name": "stdout",
     "output_type": "stream",
     "text": [
      "train_loss : 0.07302355409964272\n",
      "train_F1: 0.9180555555555556\n",
      "valid_loss : 0.15412658949693045\n",
      "valid_F1: 0.8875\n",
      "\n"
     ]
    },
    {
     "name": "stderr",
     "output_type": "stream",
     "text": [
      "\r",
      " 70%|██████████████████████████████████████████████████████████                         | 7/10 [00:20<00:08,  2.86s/it]"
     ]
    },
    {
     "name": "stdout",
     "output_type": "stream",
     "text": [
      "train_loss : 0.06844824422960696\n",
      "train_F1: 0.9174690508940854\n",
      "valid_loss : 0.1378340870141983\n",
      "valid_F1: 0.8765432098765432\n",
      "\n",
      "train_loss : 0.0632084530332814\n",
      "train_F1: 0.921443736730361\n",
      "valid_loss : 0.1331190566221873\n",
      "valid_F1: 0.89171974522293"
     ]
    },
    {
     "name": "stderr",
     "output_type": "stream",
     "text": [
      "\r",
      " 80%|██████████████████████████████████████████████████████████████████▍                | 8/10 [00:23<00:05,  2.88s/it]"
     ]
    },
    {
     "name": "stdout",
     "output_type": "stream",
     "text": [
      "\n",
      "\n"
     ]
    },
    {
     "name": "stderr",
     "output_type": "stream",
     "text": [
      "\r",
      " 90%|██████████████████████████████████████████████████████████████████████████▋        | 9/10 [00:26<00:02,  2.95s/it]"
     ]
    },
    {
     "name": "stdout",
     "output_type": "stream",
     "text": [
      "train_loss : 0.06065622749535934\n",
      "train_F1: 0.9270326615705352\n",
      "valid_loss : 0.1387586643298467\n",
      "valid_F1: 0.8902439024390244\n",
      "\n"
     ]
    },
    {
     "name": "stderr",
     "output_type": "stream",
     "text": [
      "\r",
      "100%|██████████████████████████████████████████████████████████████████████████████████| 10/10 [00:29<00:00,  2.98s/it]"
     ]
    },
    {
     "name": "stdout",
     "output_type": "stream",
     "text": [
      "train_loss : 0.060659166587435684\n",
      "train_F1: 0.9214732453092425\n",
      "valid_loss : 0.1458306759595871\n",
      "valid_F1: 0.8834355828220859\n"
     ]
    },
    {
     "name": "stderr",
     "output_type": "stream",
     "text": [
      "100%|██████████████████████████████████████████████████████████████████████████████████| 10/10 [00:29<00:00,  2.94s/it]\n",
      "  0%|                                                                                           | 0/10 [00:00<?, ?it/s]"
     ]
    },
    {
     "name": "stdout",
     "output_type": "stream",
     "text": [
      "FOLD 5\n",
      "--------------------------------\n",
      "\n",
      "train_loss : 1.0073696575734927\n",
      "train_F1: 0.5426086956521738\n"
     ]
    },
    {
     "name": "stderr",
     "output_type": "stream",
     "text": [
      "\r",
      " 10%|████████▎                                                                          | 1/10 [00:03<00:27,  3.01s/it]"
     ]
    },
    {
     "name": "stdout",
     "output_type": "stream",
     "text": [
      "valid_loss : 0.2933809806903203\n",
      "valid_F1: 0.8187134502923977\n",
      "\n"
     ]
    },
    {
     "name": "stderr",
     "output_type": "stream",
     "text": [
      "\r",
      " 20%|████████████████▌                                                                  | 2/10 [00:06<00:24,  3.09s/it]"
     ]
    },
    {
     "name": "stdout",
     "output_type": "stream",
     "text": [
      "train_loss : 0.1960111762518468\n",
      "train_F1: 0.8798938287989383\n",
      "valid_loss : 0.18151339888572693\n",
      "valid_F1: 0.8606060606060606\n",
      "\n"
     ]
    },
    {
     "name": "stderr",
     "output_type": "stream",
     "text": [
      "\r",
      " 30%|████████████████████████▉                                                          | 3/10 [00:09<00:21,  3.06s/it]"
     ]
    },
    {
     "name": "stdout",
     "output_type": "stream",
     "text": [
      "train_loss : 0.12397061936233354\n",
      "train_F1: 0.9022252191503709\n",
      "valid_loss : 0.16086803376674652\n",
      "valid_F1: 0.8554216867469879\n",
      "\n"
     ]
    },
    {
     "name": "stderr",
     "output_type": "stream",
     "text": [
      "\r",
      " 40%|█████████████████████████████████▏                                                 | 4/10 [00:12<00:18,  3.02s/it]"
     ]
    },
    {
     "name": "stdout",
     "output_type": "stream",
     "text": [
      "train_loss : 0.09734682933143947\n",
      "train_F1: 0.9113233287858117\n",
      "valid_loss : 0.18159512182076773\n",
      "valid_F1: 0.8227848101265822\n",
      "\n"
     ]
    },
    {
     "name": "stderr",
     "output_type": "stream",
     "text": [
      "\r",
      " 50%|█████████████████████████████████████████▌                                         | 5/10 [00:15<00:14,  2.98s/it]"
     ]
    },
    {
     "name": "stdout",
     "output_type": "stream",
     "text": [
      "train_loss : 0.08257498916076578\n",
      "train_F1: 0.9125683060109291\n",
      "valid_loss : 0.16175648073355356\n",
      "valid_F1: 0.8536585365853657\n",
      "\n",
      "train_loss : 0.06709812613932983\n",
      "train_F1: 0.9203049203049204\n",
      "valid_loss : 0.1871513028939565\n",
      "valid_F1: 0.8226950354609929"
     ]
    },
    {
     "name": "stderr",
     "output_type": "stream",
     "text": [
      "\r",
      " 60%|█████████████████████████████████████████████████▊                                 | 6/10 [00:17<00:11,  2.95s/it]"
     ]
    },
    {
     "name": "stdout",
     "output_type": "stream",
     "text": [
      "\n",
      "\n"
     ]
    },
    {
     "name": "stderr",
     "output_type": "stream",
     "text": [
      "\r",
      " 70%|██████████████████████████████████████████████████████████                         | 7/10 [00:20<00:08,  2.96s/it]"
     ]
    },
    {
     "name": "stdout",
     "output_type": "stream",
     "text": [
      "train_loss : 0.06640475275723831\n",
      "train_F1: 0.9292096219931272\n",
      "valid_loss : 0.20870643854141235\n",
      "valid_F1: 0.8226950354609929\n",
      "\n"
     ]
    },
    {
     "name": "stderr",
     "output_type": "stream",
     "text": [
      "\r",
      " 80%|██████████████████████████████████████████████████████████████████▍                | 8/10 [00:23<00:05,  2.91s/it]"
     ]
    },
    {
     "name": "stdout",
     "output_type": "stream",
     "text": [
      "train_loss : 0.06023509444101997\n",
      "train_F1: 0.9266943291839558\n",
      "valid_loss : 0.2169093539317449\n",
      "valid_F1: 0.8133333333333332\n",
      "\n"
     ]
    },
    {
     "name": "stderr",
     "output_type": "stream",
     "text": [
      "\r",
      " 90%|██████████████████████████████████████████████████████████████████████████▋        | 9/10 [00:26<00:02,  2.91s/it]"
     ]
    },
    {
     "name": "stdout",
     "output_type": "stream",
     "text": [
      "train_loss : 0.05921123662720556\n",
      "train_F1: 0.9267955801104973\n",
      "valid_loss : 0.21435859302679697\n",
      "valid_F1: 0.8163265306122449\n",
      "\n"
     ]
    },
    {
     "name": "stderr",
     "output_type": "stream",
     "text": [
      "\r",
      "100%|██████████████████████████████████████████████████████████████████████████████████| 10/10 [00:29<00:00,  2.93s/it]"
     ]
    },
    {
     "name": "stdout",
     "output_type": "stream",
     "text": [
      "train_loss : 0.05830122303703557\n",
      "train_F1: 0.9289693593314763\n",
      "valid_loss : 0.19879927734533945\n",
      "valid_F1: 0.8402366863905325\n"
     ]
    },
    {
     "name": "stderr",
     "output_type": "stream",
     "text": [
      "100%|██████████████████████████████████████████████████████████████████████████████████| 10/10 [00:29<00:00,  2.96s/it]\n",
      "  0%|                                                                                           | 0/10 [00:00<?, ?it/s]"
     ]
    },
    {
     "name": "stdout",
     "output_type": "stream",
     "text": [
      "FOLD 6\n",
      "--------------------------------\n",
      "\n"
     ]
    },
    {
     "name": "stderr",
     "output_type": "stream",
     "text": [
      "\r",
      " 10%|████████▎                                                                          | 1/10 [00:03<00:27,  3.09s/it]"
     ]
    },
    {
     "name": "stdout",
     "output_type": "stream",
     "text": [
      "train_loss : 0.9539886648240297\n",
      "train_F1: 0.5235434956105348\n",
      "valid_loss : 0.37929170827070874\n",
      "valid_F1: 0.7368421052631577\n",
      "\n"
     ]
    },
    {
     "name": "stderr",
     "output_type": "stream",
     "text": [
      "\r",
      " 20%|████████████████▌                                                                  | 2/10 [00:05<00:23,  2.93s/it]"
     ]
    },
    {
     "name": "stdout",
     "output_type": "stream",
     "text": [
      "train_loss : 0.19569411906211273\n",
      "train_F1: 0.8596256684491979\n",
      "valid_loss : 0.2228871782620748\n",
      "valid_F1: 0.8452380952380952\n",
      "\n"
     ]
    },
    {
     "name": "stderr",
     "output_type": "stream",
     "text": [
      "\r",
      " 30%|████████████████████████▉                                                          | 3/10 [00:08<00:19,  2.81s/it]"
     ]
    },
    {
     "name": "stdout",
     "output_type": "stream",
     "text": [
      "train_loss : 0.12464353247829106\n",
      "train_F1: 0.90020366598778\n",
      "valid_loss : 0.19645422200361887\n",
      "valid_F1: 0.8520710059171598\n",
      "\n"
     ]
    },
    {
     "name": "stderr",
     "output_type": "stream",
     "text": [
      "\r",
      " 40%|█████████████████████████████████▏                                                 | 4/10 [00:11<00:17,  2.85s/it]"
     ]
    },
    {
     "name": "stdout",
     "output_type": "stream",
     "text": [
      "train_loss : 0.09213785211677136\n",
      "train_F1: 0.9056087551299589\n",
      "valid_loss : 0.20087007184823355\n",
      "valid_F1: 0.8363636363636364\n",
      "\n"
     ]
    },
    {
     "name": "stderr",
     "output_type": "stream",
     "text": [
      "\r",
      " 50%|█████████████████████████████████████████▌                                         | 5/10 [00:14<00:14,  2.84s/it]"
     ]
    },
    {
     "name": "stdout",
     "output_type": "stream",
     "text": [
      "train_loss : 0.07304367163906926\n",
      "train_F1: 0.9192886456908345\n",
      "valid_loss : 0.22494304180145264\n",
      "valid_F1: 0.8333333333333334\n",
      "\n"
     ]
    },
    {
     "name": "stderr",
     "output_type": "stream",
     "text": [
      "\r",
      " 60%|█████████████████████████████████████████████████▊                                 | 6/10 [00:17<00:11,  2.84s/it]"
     ]
    },
    {
     "name": "stdout",
     "output_type": "stream",
     "text": [
      "train_loss : 0.06887961729713109\n",
      "train_F1: 0.9205479452054794\n",
      "valid_loss : 0.2236345261335373\n",
      "valid_F1: 0.8125000000000001\n",
      "\n"
     ]
    },
    {
     "name": "stderr",
     "output_type": "stream",
     "text": [
      "\r",
      " 70%|██████████████████████████████████████████████████████████                         | 7/10 [00:20<00:08,  2.87s/it]"
     ]
    },
    {
     "name": "stdout",
     "output_type": "stream",
     "text": [
      "train_loss : 0.06550597982562106\n",
      "train_F1: 0.9225496915695682\n",
      "valid_loss : 0.23144780099391937\n",
      "valid_F1: 0.8516129032258065\n",
      "\n"
     ]
    },
    {
     "name": "stderr",
     "output_type": "stream",
     "text": [
      "\r",
      " 80%|██████████████████████████████████████████████████████████████████▍                | 8/10 [00:22<00:05,  2.88s/it]"
     ]
    },
    {
     "name": "stdout",
     "output_type": "stream",
     "text": [
      "train_loss : 0.05888758049063061\n",
      "train_F1: 0.9269662921348315\n",
      "valid_loss : 0.25862740973631543\n",
      "valid_F1: 0.8421052631578948\n",
      "\n"
     ]
    },
    {
     "name": "stderr",
     "output_type": "stream",
     "text": [
      "\r",
      " 90%|██████████████████████████████████████████████████████████████████████████▋        | 9/10 [00:25<00:02,  2.90s/it]"
     ]
    },
    {
     "name": "stdout",
     "output_type": "stream",
     "text": [
      "train_loss : 0.058708191241907036\n",
      "train_F1: 0.9316005471956224\n",
      "valid_loss : 0.2640799582004547\n",
      "valid_F1: 0.8387096774193549\n",
      "\n"
     ]
    },
    {
     "name": "stderr",
     "output_type": "stream",
     "text": [
      "\r",
      "100%|██████████████████████████████████████████████████████████████████████████████████| 10/10 [00:28<00:00,  2.93s/it]"
     ]
    },
    {
     "name": "stdout",
     "output_type": "stream",
     "text": [
      "train_loss : 0.05537198062824166\n",
      "train_F1: 0.9323098394975575\n",
      "valid_loss : 0.27105702459812164\n",
      "valid_F1: 0.8387096774193549\n"
     ]
    },
    {
     "name": "stderr",
     "output_type": "stream",
     "text": [
      "100%|██████████████████████████████████████████████████████████████████████████████████| 10/10 [00:28<00:00,  2.89s/it]\n",
      "  0%|                                                                                           | 0/10 [00:00<?, ?it/s]"
     ]
    },
    {
     "name": "stdout",
     "output_type": "stream",
     "text": [
      "FOLD 7\n",
      "--------------------------------\n",
      "\n"
     ]
    },
    {
     "name": "stderr",
     "output_type": "stream",
     "text": [
      "\r",
      " 10%|████████▎                                                                          | 1/10 [00:02<00:25,  2.83s/it]"
     ]
    },
    {
     "name": "stdout",
     "output_type": "stream",
     "text": [
      "train_loss : 1.0124586163007694\n",
      "train_F1: 0.5355285961871751\n",
      "valid_loss : 0.22092862923940024\n",
      "valid_F1: 0.8383233532934131\n",
      "\n"
     ]
    },
    {
     "name": "stderr",
     "output_type": "stream",
     "text": [
      "\r",
      " 20%|████████████████▌                                                                  | 2/10 [00:06<00:24,  3.08s/it]"
     ]
    },
    {
     "name": "stdout",
     "output_type": "stream",
     "text": [
      "train_loss : 0.19219536139913226\n",
      "train_F1: 0.8835016835016836\n",
      "valid_loss : 0.15788319955269495\n",
      "valid_F1: 0.8928571428571429\n",
      "\n"
     ]
    },
    {
     "name": "stderr",
     "output_type": "stream",
     "text": [
      "\r",
      " 30%|████████████████████████▉                                                          | 3/10 [00:08<00:20,  2.98s/it]"
     ]
    },
    {
     "name": "stdout",
     "output_type": "stream",
     "text": [
      "train_loss : 0.13498243138841962\n",
      "train_F1: 0.9100671140939598\n",
      "valid_loss : 0.154767836133639\n",
      "valid_F1: 0.8780487804878048\n",
      "\n"
     ]
    },
    {
     "name": "stderr",
     "output_type": "stream",
     "text": [
      "\r",
      " 40%|█████████████████████████████████▏                                                 | 4/10 [00:11<00:17,  2.95s/it]"
     ]
    },
    {
     "name": "stdout",
     "output_type": "stream",
     "text": [
      "train_loss : 0.10132372735635094\n",
      "train_F1: 0.912542372881356\n",
      "valid_loss : 0.13915157690644264\n",
      "valid_F1: 0.8765432098765432\n",
      "\n"
     ]
    },
    {
     "name": "stderr",
     "output_type": "stream",
     "text": [
      "\r",
      " 50%|█████████████████████████████████████████▌                                         | 5/10 [00:14<00:14,  2.92s/it]"
     ]
    },
    {
     "name": "stdout",
     "output_type": "stream",
     "text": [
      "train_loss : 0.0793853240168613\n",
      "train_F1: 0.9204152249134948\n",
      "valid_loss : 0.12502253676454225\n",
      "valid_F1: 0.8765432098765432\n",
      "\n"
     ]
    },
    {
     "name": "stderr",
     "output_type": "stream",
     "text": [
      "\r",
      " 60%|█████████████████████████████████████████████████▊                                 | 6/10 [00:17<00:11,  2.89s/it]"
     ]
    },
    {
     "name": "stdout",
     "output_type": "stream",
     "text": [
      "train_loss : 0.0722501595383105\n",
      "train_F1: 0.9205479452054794\n",
      "valid_loss : 0.12480438748995464\n",
      "valid_F1: 0.8727272727272727\n",
      "\n"
     ]
    },
    {
     "name": "stderr",
     "output_type": "stream",
     "text": [
      "\r",
      " 70%|██████████████████████████████████████████████████████████                         | 7/10 [00:20<00:08,  2.87s/it]"
     ]
    },
    {
     "name": "stdout",
     "output_type": "stream",
     "text": [
      "train_loss : 0.06288893196893774\n",
      "train_F1: 0.9216909216909218\n",
      "valid_loss : 0.1384169285496076\n",
      "valid_F1: 0.8658536585365854\n",
      "\n"
     ]
    },
    {
     "name": "stderr",
     "output_type": "stream",
     "text": [
      "\r",
      " 80%|██████████████████████████████████████████████████████████████████▍                | 8/10 [00:23<00:05,  2.85s/it]"
     ]
    },
    {
     "name": "stdout",
     "output_type": "stream",
     "text": [
      "train_loss : 0.05953436377255813\n",
      "train_F1: 0.9302004146510021\n",
      "valid_loss : 0.12890997777382532\n",
      "valid_F1: 0.880503144654088\n",
      "\n"
     ]
    },
    {
     "name": "stderr",
     "output_type": "stream",
     "text": [
      "\r",
      " 90%|██████████████████████████████████████████████████████████████████████████▋        | 9/10 [00:26<00:02,  2.85s/it]"
     ]
    },
    {
     "name": "stdout",
     "output_type": "stream",
     "text": [
      "train_loss : 0.060452900502992714\n",
      "train_F1: 0.9278350515463917\n",
      "valid_loss : 0.1394630347688993\n",
      "valid_F1: 0.860759493670886\n",
      "\n"
     ]
    },
    {
     "name": "stderr",
     "output_type": "stream",
     "text": [
      "\r",
      "100%|██████████████████████████████████████████████████████████████████████████████████| 10/10 [00:28<00:00,  2.87s/it]"
     ]
    },
    {
     "name": "stdout",
     "output_type": "stream",
     "text": [
      "train_loss : 0.05689396806385206\n",
      "train_F1: 0.9291666666666667\n",
      "valid_loss : 0.1388466308514277\n",
      "valid_F1: 0.8641975308641975\n"
     ]
    },
    {
     "name": "stderr",
     "output_type": "stream",
     "text": [
      "100%|██████████████████████████████████████████████████████████████████████████████████| 10/10 [00:28<00:00,  2.90s/it]\n",
      "  0%|                                                                                           | 0/10 [00:00<?, ?it/s]"
     ]
    },
    {
     "name": "stdout",
     "output_type": "stream",
     "text": [
      "FOLD 8\n",
      "--------------------------------\n",
      "\n"
     ]
    },
    {
     "name": "stderr",
     "output_type": "stream",
     "text": [
      "\r",
      " 10%|████████▎                                                                          | 1/10 [00:02<00:25,  2.84s/it]"
     ]
    },
    {
     "name": "stdout",
     "output_type": "stream",
     "text": [
      "train_loss : 1.053929908444052\n",
      "train_F1: 0.3991537376586742\n",
      "valid_loss : 0.18178798258304596\n",
      "valid_F1: 0.8690476190476191\n",
      "\n"
     ]
    },
    {
     "name": "stderr",
     "output_type": "stream",
     "text": [
      "\r",
      " 20%|████████████████▌                                                                  | 2/10 [00:05<00:22,  2.86s/it]"
     ]
    },
    {
     "name": "stdout",
     "output_type": "stream",
     "text": [
      "train_loss : 0.20590444071137387\n",
      "train_F1: 0.8764195056780227\n",
      "valid_loss : 0.16868495444456735\n",
      "valid_F1: 0.8848484848484849\n",
      "\n"
     ]
    },
    {
     "name": "stderr",
     "output_type": "stream",
     "text": [
      "\r",
      " 30%|████████████████████████▉                                                          | 3/10 [00:08<00:19,  2.82s/it]"
     ]
    },
    {
     "name": "stdout",
     "output_type": "stream",
     "text": [
      "train_loss : 0.13892591080587843\n",
      "train_F1: 0.8962264150943395\n",
      "valid_loss : 0.1044229840238889\n",
      "valid_F1: 0.8862275449101796\n",
      "\n"
     ]
    },
    {
     "name": "stderr",
     "output_type": "stream",
     "text": [
      "\r",
      " 40%|█████████████████████████████████▏                                                 | 4/10 [00:11<00:16,  2.81s/it]"
     ]
    },
    {
     "name": "stdout",
     "output_type": "stream",
     "text": [
      "train_loss : 0.10640211630126704\n",
      "train_F1: 0.9092140921409213\n",
      "valid_loss : 0.12646561612685522\n",
      "valid_F1: 0.8834355828220859\n",
      "\n"
     ]
    },
    {
     "name": "stderr",
     "output_type": "stream",
     "text": [
      "\r",
      " 50%|█████████████████████████████████████████▌                                         | 5/10 [00:14<00:14,  2.87s/it]"
     ]
    },
    {
     "name": "stdout",
     "output_type": "stream",
     "text": [
      "train_loss : 0.0798454177768334\n",
      "train_F1: 0.9134287661895024\n",
      "valid_loss : 0.13983224829037985\n",
      "valid_F1: 0.860759493670886\n",
      "\n"
     ]
    },
    {
     "name": "stderr",
     "output_type": "stream",
     "text": [
      "\r",
      " 60%|█████████████████████████████████████████████████▊                                 | 6/10 [00:17<00:11,  2.83s/it]"
     ]
    },
    {
     "name": "stdout",
     "output_type": "stream",
     "text": [
      "train_loss : 0.07912427057390628\n",
      "train_F1: 0.9289617486338798\n",
      "valid_loss : 0.15457448363304138\n",
      "valid_F1: 0.8727272727272727\n",
      "\n"
     ]
    },
    {
     "name": "stderr",
     "output_type": "stream",
     "text": [
      "\r",
      " 70%|██████████████████████████████████████████████████████████                         | 7/10 [00:19<00:08,  2.87s/it]"
     ]
    },
    {
     "name": "stdout",
     "output_type": "stream",
     "text": [
      "train_loss : 0.07287671319816423\n",
      "train_F1: 0.9250681198910082\n",
      "valid_loss : 0.14031698306401572\n",
      "valid_F1: 0.8695652173913043\n",
      "\n"
     ]
    },
    {
     "name": "stderr",
     "output_type": "stream",
     "text": [
      "\r",
      " 80%|██████████████████████████████████████████████████████████████████▍                | 8/10 [00:22<00:05,  2.87s/it]"
     ]
    },
    {
     "name": "stdout",
     "output_type": "stream",
     "text": [
      "train_loss : 0.06549571130586707\n",
      "train_F1: 0.9226480836236934\n",
      "valid_loss : 0.1634787619113922\n",
      "valid_F1: 0.8679245283018868\n",
      "\n"
     ]
    },
    {
     "name": "stderr",
     "output_type": "stream",
     "text": [
      "\r",
      " 90%|██████████████████████████████████████████████████████████████████████████▋        | 9/10 [00:25<00:02,  2.91s/it]"
     ]
    },
    {
     "name": "stdout",
     "output_type": "stream",
     "text": [
      "train_loss : 0.06438311254200728\n",
      "train_F1: 0.9290144727773949\n",
      "valid_loss : 0.16176948448022208\n",
      "valid_F1: 0.860759493670886\n",
      "\n"
     ]
    },
    {
     "name": "stderr",
     "output_type": "stream",
     "text": [
      "\r",
      "100%|██████████████████████████████████████████████████████████████████████████████████| 10/10 [00:28<00:00,  2.93s/it]"
     ]
    },
    {
     "name": "stdout",
     "output_type": "stream",
     "text": [
      "train_loss : 0.05911494856295378\n",
      "train_F1: 0.9321203638908326\n",
      "valid_loss : 0.18458642065525055\n",
      "valid_F1: 0.8809523809523809\n"
     ]
    },
    {
     "name": "stderr",
     "output_type": "stream",
     "text": [
      "100%|██████████████████████████████████████████████████████████████████████████████████| 10/10 [00:28<00:00,  2.88s/it]\n",
      "  0%|                                                                                           | 0/10 [00:00<?, ?it/s]"
     ]
    },
    {
     "name": "stdout",
     "output_type": "stream",
     "text": [
      "FOLD 9\n",
      "--------------------------------\n",
      "\n"
     ]
    },
    {
     "name": "stderr",
     "output_type": "stream",
     "text": [
      "\r",
      " 10%|████████▎                                                                          | 1/10 [00:03<00:27,  3.05s/it]"
     ]
    },
    {
     "name": "stdout",
     "output_type": "stream",
     "text": [
      "train_loss : 1.0148448882543522\n",
      "train_F1: 0.4184397163120568\n",
      "valid_loss : 0.3107211838165919\n",
      "valid_F1: 0.7719298245614035\n",
      "\n"
     ]
    },
    {
     "name": "stderr",
     "output_type": "stream",
     "text": [
      "\r",
      " 20%|████████████████▌                                                                  | 2/10 [00:05<00:23,  2.92s/it]"
     ]
    },
    {
     "name": "stdout",
     "output_type": "stream",
     "text": [
      "train_loss : 0.20369962149340173\n",
      "train_F1: 0.8702594810379243\n",
      "valid_loss : 0.23317093153794607\n",
      "valid_F1: 0.8587570621468925\n",
      "\n"
     ]
    },
    {
     "name": "stderr",
     "output_type": "stream",
     "text": [
      "\r",
      " 30%|████████████████████████▉                                                          | 3/10 [00:08<00:20,  2.87s/it]"
     ]
    },
    {
     "name": "stdout",
     "output_type": "stream",
     "text": [
      "train_loss : 0.1331894485198933\n",
      "train_F1: 0.8986083499005965\n",
      "valid_loss : 0.2765078047911326\n",
      "valid_F1: 0.8658536585365854\n",
      "\n"
     ]
    },
    {
     "name": "stderr",
     "output_type": "stream",
     "text": [
      "\r",
      " 40%|█████████████████████████████████▏                                                 | 4/10 [00:11<00:17,  2.84s/it]"
     ]
    },
    {
     "name": "stdout",
     "output_type": "stream",
     "text": [
      "train_loss : 0.10137805277886598\n",
      "train_F1: 0.9116465863453815\n",
      "valid_loss : 0.21009308099746704\n",
      "valid_F1: 0.8809523809523809\n",
      "\n"
     ]
    },
    {
     "name": "stderr",
     "output_type": "stream",
     "text": [
      "\r",
      " 50%|█████████████████████████████████████████▌                                         | 5/10 [00:14<00:14,  2.90s/it]"
     ]
    },
    {
     "name": "stdout",
     "output_type": "stream",
     "text": [
      "train_loss : 0.07555053739444069\n",
      "train_F1: 0.9164420485175202\n",
      "valid_loss : 0.20132736365000406\n",
      "valid_F1: 0.8928571428571429\n",
      "\n"
     ]
    },
    {
     "name": "stderr",
     "output_type": "stream",
     "text": [
      "\r",
      " 60%|█████████████████████████████████████████████████▊                                 | 6/10 [00:17<00:11,  2.95s/it]"
     ]
    },
    {
     "name": "stdout",
     "output_type": "stream",
     "text": [
      "train_loss : 0.06908856137939122\n",
      "train_F1: 0.9186935371785963\n",
      "valid_loss : 0.1906373699506124\n",
      "valid_F1: 0.9056603773584906\n",
      "\n"
     ]
    },
    {
     "name": "stderr",
     "output_type": "stream",
     "text": [
      "\r",
      " 70%|██████████████████████████████████████████████████████████                         | 7/10 [00:20<00:08,  3.00s/it]"
     ]
    },
    {
     "name": "stdout",
     "output_type": "stream",
     "text": [
      "train_loss : 0.06346160562142082\n",
      "train_F1: 0.9224433768016473\n",
      "valid_loss : 0.22618363300959268\n",
      "valid_F1: 0.903225806451613\n",
      "\n"
     ]
    },
    {
     "name": "stderr",
     "output_type": "stream",
     "text": [
      "\r",
      " 80%|██████████████████████████████████████████████████████████████████▍                | 8/10 [00:23<00:05,  2.97s/it]"
     ]
    },
    {
     "name": "stdout",
     "output_type": "stream",
     "text": [
      "train_loss : 0.0625229413094728\n",
      "train_F1: 0.9208128941836019\n",
      "valid_loss : 0.20550512274106345\n",
      "valid_F1: 0.8780487804878048\n",
      "\n"
     ]
    },
    {
     "name": "stderr",
     "output_type": "stream",
     "text": [
      "\r",
      " 90%|██████████████████████████████████████████████████████████████████████████▋        | 9/10 [00:26<00:02,  2.93s/it]"
     ]
    },
    {
     "name": "stdout",
     "output_type": "stream",
     "text": [
      "train_loss : 0.05860645291597947\n",
      "train_F1: 0.924346629986245\n",
      "valid_loss : 0.20725572109222412\n",
      "valid_F1: 0.8789808917197451\n",
      "\n"
     ]
    },
    {
     "name": "stderr",
     "output_type": "stream",
     "text": [
      "100%|██████████████████████████████████████████████████████████████████████████████████| 10/10 [00:29<00:00,  2.91s/it]"
     ]
    },
    {
     "name": "stdout",
     "output_type": "stream",
     "text": [
      "train_loss : 0.057276470181734665\n",
      "train_F1: 0.9316420014094433\n",
      "valid_loss : 0.21379833420117697\n",
      "valid_F1: 0.9012345679012346\n"
     ]
    },
    {
     "name": "stderr",
     "output_type": "stream",
     "text": [
      "\n"
     ]
    }
   ],
   "source": [
    "All_Fold_score = []\n",
    "for fold, (train_ids, test_ids) in enumerate(kfold.split(dataset)):\n",
    "    print(f'FOLD {fold}')\n",
    "    print('--------------------------------')\n",
    "    train_subsampler = torch.utils.data.SubsetRandomSampler(train_ids)\n",
    "    test_subsampler = torch.utils.data.SubsetRandomSampler(test_ids)\n",
    "    train_dataloader = DataLoader(dataset, batch_size=bs,\n",
    "                                  collate_fn=tr_dataset.collate_fn,\n",
    "                                  sampler=train_subsampler)\n",
    "    valid_dataloader = DataLoader(dataset, batch_size=bs,\n",
    "                                  collate_fn=va_dataset.collate_fn,\n",
    "                                  sampler=test_subsampler)  \n",
    "    model = EmbeddedRnn(len(word2idx), 256, len(tags),2,word_pad_idx,tag_pad_idx)\n",
    "    optimizer = optim.AdamW(model.parameters(), lr=5e-3)\n",
    "    model = model.to(device)\n",
    "    all_loader = {\"train\" : train_dataloader,\n",
    "                  \"valid\" : valid_dataloader}\n",
    "    Fold_score = []\n",
    "    for epoch in tqdm(range(num_epoch)):\n",
    "        all_loss = {\n",
    "            'train': [],\n",
    "            'valid': [],\n",
    "        }\n",
    "        print('')\n",
    "        for loader in all_loader:\n",
    "            predictions , true_labels  = [],[]\n",
    "            for x, y in all_loader[loader]:\n",
    "                optimizer.zero_grad()\n",
    "                x = x.to(device)\n",
    "                y = y.to(device)\n",
    "                hidden = model.initHidden(x.size(0))\n",
    "                hidden[0] = hidden[0].to(device)\n",
    "                hidden[1] = hidden[1].to(device)\n",
    "                output, loss = model(x, hidden,y)\n",
    "                if loader == 'train':\n",
    "                    loss.backward()\n",
    "                    optimizer.step()\n",
    "                all_loss[loader].append(loss.cpu().item()) \n",
    "                predictions.extend([[idx2tag[j] for j in i] for i in output])\n",
    "                for i in y.detach().cpu().numpy():\n",
    "                    _ = []\n",
    "                    for j in i:\n",
    "                        if j != tag_pad_idx:\n",
    "                            _.append(idx2tag[j])\n",
    "                    true_labels.append(_)\n",
    "            print(f'{loader}_loss : {np.mean(np.array(all_loss[loader]))/64}')\n",
    "            f_ = f1_score(true_labels,predictions,scheme = IOB2)\n",
    "            print(f'{loader}_F1: {f_}')\n",
    "            if loader == 'valid':\n",
    "                Fold_score.append(f_)\n",
    "    if Fold_score != []:\n",
    "        All_Fold_score.append(Fold_score)"
   ]
  },
  {
   "cell_type": "code",
   "execution_count": 18,
   "id": "lasting-conference",
   "metadata": {},
   "outputs": [],
   "source": [
    "All_score = len(All_Fold_score[0]) * [0]\n",
    "for score in All_Fold_score:\n",
    "    All_score = np.sum([All_score,score], axis = 0)\n",
    "All_score = np.round((All_score / 10) ,2) "
   ]
  },
  {
   "cell_type": "code",
   "execution_count": 19,
   "id": "historical-canada",
   "metadata": {},
   "outputs": [
    {
     "data": {
      "text/plain": [
       "array([0.83, 0.88, 0.88, 0.87, 0.87, 0.87, 0.87, 0.87, 0.86, 0.88])"
      ]
     },
     "execution_count": 19,
     "metadata": {},
     "output_type": "execute_result"
    }
   ],
   "source": [
    "All_score"
   ]
  },
  {
   "cell_type": "markdown",
   "id": "committed-young",
   "metadata": {},
   "source": [
    "## 單用 trainingset 去做 10-fold CV"
   ]
  },
  {
   "cell_type": "code",
   "execution_count": 20,
   "id": "alone-institute",
   "metadata": {
    "scrolled": true
   },
   "outputs": [
    {
     "name": "stderr",
     "output_type": "stream",
     "text": [
      "\r",
      "  0%|                                                                                           | 0/10 [00:00<?, ?it/s]"
     ]
    },
    {
     "name": "stdout",
     "output_type": "stream",
     "text": [
      "FOLD 0\n",
      "--------------------------------\n",
      "\n"
     ]
    },
    {
     "name": "stderr",
     "output_type": "stream",
     "text": [
      "\r",
      " 10%|████████▎                                                                          | 1/10 [00:02<00:22,  2.52s/it]"
     ]
    },
    {
     "name": "stdout",
     "output_type": "stream",
     "text": [
      "train_loss : 1.1518160752952098\n",
      "train_F1: 0.4047856430707876\n",
      "valid_loss : 0.21394155025482178\n",
      "valid_F1: 0.875\n",
      "\n"
     ]
    },
    {
     "name": "stderr",
     "output_type": "stream",
     "text": [
      "\r",
      " 20%|████████████████▌                                                                  | 2/10 [00:05<00:20,  2.51s/it]"
     ]
    },
    {
     "name": "stdout",
     "output_type": "stream",
     "text": [
      "train_loss : 0.15547118932008744\n",
      "train_F1: 0.9047619047619049\n",
      "valid_loss : 0.10516305565834046\n",
      "valid_F1: 0.9324324324324325\n",
      "\n"
     ]
    },
    {
     "name": "stderr",
     "output_type": "stream",
     "text": [
      "\r",
      " 30%|████████████████████████▉                                                          | 3/10 [00:07<00:17,  2.48s/it]"
     ]
    },
    {
     "name": "stdout",
     "output_type": "stream",
     "text": [
      "train_loss : 0.09333100691437721\n",
      "train_F1: 0.9252120277563608\n",
      "valid_loss : 0.08272008299827575\n",
      "valid_F1: 0.9166666666666666\n",
      "\n"
     ]
    },
    {
     "name": "stderr",
     "output_type": "stream",
     "text": [
      "\r",
      " 40%|█████████████████████████████████▏                                                 | 4/10 [00:09<00:14,  2.49s/it]"
     ]
    },
    {
     "name": "stdout",
     "output_type": "stream",
     "text": [
      "train_loss : 0.07505445517599582\n",
      "train_F1: 0.9320843091334895\n",
      "valid_loss : 0.07060465216636658\n",
      "valid_F1: 0.8888888888888888\n",
      "\n"
     ]
    },
    {
     "name": "stderr",
     "output_type": "stream",
     "text": [
      "\r",
      " 50%|█████████████████████████████████████████▌                                         | 5/10 [00:12<00:12,  2.51s/it]"
     ]
    },
    {
     "name": "stdout",
     "output_type": "stream",
     "text": [
      "train_loss : 0.05935889407992363\n",
      "train_F1: 0.9256329113924051\n",
      "valid_loss : 0.05605042576789856\n",
      "valid_F1: 0.9041095890410958\n",
      "\n"
     ]
    },
    {
     "name": "stderr",
     "output_type": "stream",
     "text": [
      "\r",
      " 60%|█████████████████████████████████████████████████▊                                 | 6/10 [00:15<00:10,  2.56s/it]"
     ]
    },
    {
     "name": "stdout",
     "output_type": "stream",
     "text": [
      "train_loss : 0.05721569433808327\n",
      "train_F1: 0.9287392325763508\n",
      "valid_loss : 0.056273990869522096\n",
      "valid_F1: 0.8873239436619719\n",
      "\n"
     ]
    },
    {
     "name": "stderr",
     "output_type": "stream",
     "text": [
      "\r",
      " 70%|██████████████████████████████████████████████████████████                         | 7/10 [00:17<00:07,  2.54s/it]"
     ]
    },
    {
     "name": "stdout",
     "output_type": "stream",
     "text": [
      "train_loss : 0.05613960474729538\n",
      "train_F1: 0.9340746624305004\n",
      "valid_loss : 0.05742876529693604\n",
      "valid_F1: 0.8985507246376812\n",
      "\n"
     ]
    },
    {
     "name": "stderr",
     "output_type": "stream",
     "text": [
      "\r",
      " 80%|██████████████████████████████████████████████████████████████████▍                | 8/10 [00:20<00:05,  2.56s/it]"
     ]
    },
    {
     "name": "stdout",
     "output_type": "stream",
     "text": [
      "train_loss : 0.0562263622879982\n",
      "train_F1: 0.9270248596631916\n",
      "valid_loss : 0.052383828163146975\n",
      "valid_F1: 0.9027777777777778\n",
      "\n"
     ]
    },
    {
     "name": "stderr",
     "output_type": "stream",
     "text": [
      "\r",
      " 90%|██████████████████████████████████████████████████████████████████████████▋        | 9/10 [00:22<00:02,  2.53s/it]"
     ]
    },
    {
     "name": "stdout",
     "output_type": "stream",
     "text": [
      "train_loss : 0.054189054667949675\n",
      "train_F1: 0.9382329945269742\n",
      "valid_loss : 0.05786541700363159\n",
      "valid_F1: 0.8857142857142857\n",
      "\n"
     ]
    },
    {
     "name": "stderr",
     "output_type": "stream",
     "text": [
      "100%|██████████████████████████████████████████████████████████████████████████████████| 10/10 [00:25<00:00,  2.52s/it]\n",
      "  0%|                                                                                           | 0/10 [00:00<?, ?it/s]"
     ]
    },
    {
     "name": "stdout",
     "output_type": "stream",
     "text": [
      "train_loss : 0.05554633736610413\n",
      "train_F1: 0.9311999999999999\n",
      "valid_loss : 0.05536609888076782\n",
      "valid_F1: 0.918918918918919\n",
      "FOLD 1\n",
      "--------------------------------\n",
      "\n"
     ]
    },
    {
     "name": "stderr",
     "output_type": "stream",
     "text": [
      "\r",
      " 10%|████████▎                                                                          | 1/10 [00:02<00:22,  2.46s/it]"
     ]
    },
    {
     "name": "stdout",
     "output_type": "stream",
     "text": [
      "train_loss : 1.1549613550305367\n",
      "train_F1: 0.3772609819121447\n",
      "valid_loss : 0.22663582861423492\n",
      "valid_F1: 0.7913669064748201\n",
      "\n"
     ]
    },
    {
     "name": "stderr",
     "output_type": "stream",
     "text": [
      "\r",
      " 20%|████████████████▌                                                                  | 2/10 [00:04<00:19,  2.46s/it]"
     ]
    },
    {
     "name": "stdout",
     "output_type": "stream",
     "text": [
      "train_loss : 0.1564963825047016\n",
      "train_F1: 0.8952234206471493\n",
      "valid_loss : 0.16876394748687745\n",
      "valid_F1: 0.88\n",
      "\n"
     ]
    },
    {
     "name": "stderr",
     "output_type": "stream",
     "text": [
      "\r",
      " 30%|████████████████████████▉                                                          | 3/10 [00:07<00:17,  2.56s/it]"
     ]
    },
    {
     "name": "stdout",
     "output_type": "stream",
     "text": [
      "train_loss : 0.10066209845244885\n",
      "train_F1: 0.9202453987730062\n",
      "valid_loss : 0.08620806038379669\n",
      "valid_F1: 0.8951048951048951\n",
      "\n"
     ]
    },
    {
     "name": "stderr",
     "output_type": "stream",
     "text": [
      "\r",
      " 40%|█████████████████████████████████▏                                                 | 4/10 [00:10<00:15,  2.53s/it]"
     ]
    },
    {
     "name": "stdout",
     "output_type": "stream",
     "text": [
      "train_loss : 0.07086763456463814\n",
      "train_F1: 0.9227166276346603\n",
      "valid_loss : 0.0626590222120285\n",
      "valid_F1: 0.8920863309352517\n",
      "\n"
     ]
    },
    {
     "name": "stderr",
     "output_type": "stream",
     "text": [
      "\r",
      " 50%|█████████████████████████████████████████▌                                         | 5/10 [00:12<00:12,  2.53s/it]"
     ]
    },
    {
     "name": "stdout",
     "output_type": "stream",
     "text": [
      "train_loss : 0.05846415907144546\n",
      "train_F1: 0.9322957198443579\n",
      "valid_loss : 0.05958524942398071\n",
      "valid_F1: 0.9172932330827067\n",
      "\n"
     ]
    },
    {
     "name": "stderr",
     "output_type": "stream",
     "text": [
      "\r",
      " 60%|█████████████████████████████████████████████████▊                                 | 6/10 [00:15<00:10,  2.51s/it]"
     ]
    },
    {
     "name": "stdout",
     "output_type": "stream",
     "text": [
      "train_loss : 0.055303892493247984\n",
      "train_F1: 0.9260143198090692\n",
      "valid_loss : 0.05544670820236206\n",
      "valid_F1: 0.9037037037037037\n",
      "\n"
     ]
    },
    {
     "name": "stderr",
     "output_type": "stream",
     "text": [
      "\r",
      " 70%|██████████████████████████████████████████████████████████                         | 7/10 [00:17<00:07,  2.48s/it]"
     ]
    },
    {
     "name": "stdout",
     "output_type": "stream",
     "text": [
      "train_loss : 0.05354507938027382\n",
      "train_F1: 0.9304897314375987\n",
      "valid_loss : 0.05567455291748047\n",
      "valid_F1: 0.8857142857142857\n",
      "\n"
     ]
    },
    {
     "name": "stderr",
     "output_type": "stream",
     "text": [
      "\r",
      " 80%|██████████████████████████████████████████████████████████████████▍                | 8/10 [00:19<00:04,  2.47s/it]"
     ]
    },
    {
     "name": "stdout",
     "output_type": "stream",
     "text": [
      "train_loss : 0.05295584127306938\n",
      "train_F1: 0.9303442754203363\n",
      "valid_loss : 0.054925060272216795\n",
      "valid_F1: 0.9037037037037037\n",
      "\n"
     ]
    },
    {
     "name": "stderr",
     "output_type": "stream",
     "text": [
      "\r",
      " 90%|██████████████████████████████████████████████████████████████████████████▋        | 9/10 [00:22<00:02,  2.50s/it]"
     ]
    },
    {
     "name": "stdout",
     "output_type": "stream",
     "text": [
      "train_loss : 0.05206039175391197\n",
      "train_F1: 0.9364069952305246\n",
      "valid_loss : 0.053928375244140625\n",
      "valid_F1: 0.8951048951048951\n",
      "\n"
     ]
    },
    {
     "name": "stderr",
     "output_type": "stream",
     "text": [
      "100%|██████████████████████████████████████████████████████████████████████████████████| 10/10 [00:25<00:00,  2.50s/it]\n",
      "  0%|                                                                                           | 0/10 [00:00<?, ?it/s]"
     ]
    },
    {
     "name": "stdout",
     "output_type": "stream",
     "text": [
      "train_loss : 0.052072839438915254\n",
      "train_F1: 0.9311999999999999\n",
      "valid_loss : 0.05347089767456055\n",
      "valid_F1: 0.8873239436619719\n",
      "FOLD 2\n",
      "--------------------------------\n",
      "\n"
     ]
    },
    {
     "name": "stderr",
     "output_type": "stream",
     "text": [
      "\r",
      " 10%|████████▎                                                                          | 1/10 [00:02<00:22,  2.50s/it]"
     ]
    },
    {
     "name": "stdout",
     "output_type": "stream",
     "text": [
      "train_loss : 1.0603826422244311\n",
      "train_F1: 0.4239226033421284\n",
      "valid_loss : 0.12673501968383788\n",
      "valid_F1: 0.9178082191780823\n",
      "\n"
     ]
    },
    {
     "name": "stderr",
     "output_type": "stream",
     "text": [
      "\r",
      " 20%|████████████████▌                                                                  | 2/10 [00:04<00:19,  2.47s/it]"
     ]
    },
    {
     "name": "stdout",
     "output_type": "stream",
     "text": [
      "train_loss : 0.16484499387443066\n",
      "train_F1: 0.9002284843869003\n",
      "valid_loss : 0.0629791796207428\n",
      "valid_F1: 0.951048951048951\n",
      "\n"
     ]
    },
    {
     "name": "stderr",
     "output_type": "stream",
     "text": [
      "\r",
      " 30%|████████████████████████▉                                                          | 3/10 [00:07<00:17,  2.49s/it]"
     ]
    },
    {
     "name": "stdout",
     "output_type": "stream",
     "text": [
      "train_loss : 0.1112667128443718\n",
      "train_F1: 0.9179331306990881\n",
      "valid_loss : 0.044490212202072145\n",
      "valid_F1: 0.9589041095890412\n",
      "\n"
     ]
    },
    {
     "name": "stderr",
     "output_type": "stream",
     "text": [
      "\r",
      " 40%|█████████████████████████████████▏                                                 | 4/10 [00:09<00:14,  2.50s/it]"
     ]
    },
    {
     "name": "stdout",
     "output_type": "stream",
     "text": [
      "train_loss : 0.0778329972177744\n",
      "train_F1: 0.9103448275862068\n",
      "valid_loss : 0.03304000496864319\n",
      "valid_F1: 0.9558823529411764\n",
      "\n"
     ]
    },
    {
     "name": "stderr",
     "output_type": "stream",
     "text": [
      "\r",
      " 50%|█████████████████████████████████████████▌                                         | 5/10 [00:12<00:12,  2.47s/it]"
     ]
    },
    {
     "name": "stdout",
     "output_type": "stream",
     "text": [
      "train_loss : 0.06546348109841346\n",
      "train_F1: 0.9162717219589256\n",
      "valid_loss : 0.02955838441848755\n",
      "valid_F1: 0.9523809523809524\n",
      "\n"
     ]
    },
    {
     "name": "stderr",
     "output_type": "stream",
     "text": [
      "\r",
      " 60%|█████████████████████████████████████████████████▊                                 | 6/10 [00:15<00:10,  2.53s/it]"
     ]
    },
    {
     "name": "stdout",
     "output_type": "stream",
     "text": [
      "train_loss : 0.06114770770072937\n",
      "train_F1: 0.9194312796208529\n",
      "valid_loss : 0.0268868088722229\n",
      "valid_F1: 0.9655172413793103\n",
      "\n"
     ]
    },
    {
     "name": "stderr",
     "output_type": "stream",
     "text": [
      "\r",
      " 70%|██████████████████████████████████████████████████████████                         | 7/10 [00:17<00:07,  2.51s/it]"
     ]
    },
    {
     "name": "stdout",
     "output_type": "stream",
     "text": [
      "train_loss : 0.0586444154381752\n",
      "train_F1: 0.9258964143426295\n",
      "valid_loss : 0.02683367133140564\n",
      "valid_F1: 0.9577464788732394\n",
      "\n"
     ]
    },
    {
     "name": "stderr",
     "output_type": "stream",
     "text": [
      "\r",
      " 80%|██████████████████████████████████████████████████████████████████▍                | 8/10 [00:19<00:04,  2.48s/it]"
     ]
    },
    {
     "name": "stdout",
     "output_type": "stream",
     "text": [
      "train_loss : 0.056923973560333255\n",
      "train_F1: 0.9285714285714287\n",
      "valid_loss : 0.026916921138763428\n",
      "valid_F1: 0.9635036496350364\n",
      "\n"
     ]
    },
    {
     "name": "stderr",
     "output_type": "stream",
     "text": [
      "\r",
      " 90%|██████████████████████████████████████████████████████████████████████████▋        | 9/10 [00:22<00:02,  2.48s/it]"
     ]
    },
    {
     "name": "stdout",
     "output_type": "stream",
     "text": [
      "train_loss : 0.05700540691614151\n",
      "train_F1: 0.9286846275752774\n",
      "valid_loss : 0.0277826189994812\n",
      "valid_F1: 0.9558823529411764\n",
      "\n"
     ]
    },
    {
     "name": "stderr",
     "output_type": "stream",
     "text": [
      "100%|██████████████████████████████████████████████████████████████████████████████████| 10/10 [00:24<00:00,  2.49s/it]\n",
      "  0%|                                                                                           | 0/10 [00:00<?, ?it/s]"
     ]
    },
    {
     "name": "stdout",
     "output_type": "stream",
     "text": [
      "train_loss : 0.05633391961455345\n",
      "train_F1: 0.9238171611868484\n",
      "valid_loss : 0.029253482818603516\n",
      "valid_F1: 0.9577464788732394\n",
      "FOLD 3\n",
      "--------------------------------\n",
      "\n"
     ]
    },
    {
     "name": "stderr",
     "output_type": "stream",
     "text": [
      "\r",
      " 10%|████████▎                                                                          | 1/10 [00:02<00:22,  2.47s/it]"
     ]
    },
    {
     "name": "stdout",
     "output_type": "stream",
     "text": [
      "train_loss : 1.025277066975832\n",
      "train_F1: 0.39814097598760645\n",
      "valid_loss : 0.24466924965381623\n",
      "valid_F1: 0.8057553956834531\n",
      "\n"
     ]
    },
    {
     "name": "stderr",
     "output_type": "stream",
     "text": [
      "\r",
      " 20%|████████████████▌                                                                  | 2/10 [00:04<00:19,  2.46s/it]"
     ]
    },
    {
     "name": "stdout",
     "output_type": "stream",
     "text": [
      "train_loss : 0.14980625100433825\n",
      "train_F1: 0.8960739030023095\n",
      "valid_loss : 0.11095255613327026\n",
      "valid_F1: 0.8874172185430463\n",
      "\n"
     ]
    },
    {
     "name": "stderr",
     "output_type": "stream",
     "text": [
      "\r",
      " 30%|████████████████████████▉                                                          | 3/10 [00:07<00:17,  2.48s/it]"
     ]
    },
    {
     "name": "stdout",
     "output_type": "stream",
     "text": [
      "train_loss : 0.08911373429000377\n",
      "train_F1: 0.9224865694551037\n",
      "valid_loss : 0.09024635255336762\n",
      "valid_F1: 0.9066666666666667\n",
      "\n"
     ]
    },
    {
     "name": "stderr",
     "output_type": "stream",
     "text": [
      "\r",
      " 40%|█████████████████████████████████▏                                                 | 4/10 [00:09<00:14,  2.46s/it]"
     ]
    },
    {
     "name": "stdout",
     "output_type": "stream",
     "text": [
      "train_loss : 0.06459811255335808\n",
      "train_F1: 0.9276729559748429\n",
      "valid_loss : 0.08732407093048096\n",
      "valid_F1: 0.8859060402684563\n",
      "\n"
     ]
    },
    {
     "name": "stderr",
     "output_type": "stream",
     "text": [
      "\r",
      " 50%|█████████████████████████████████████████▌                                         | 5/10 [00:12<00:12,  2.47s/it]"
     ]
    },
    {
     "name": "stdout",
     "output_type": "stream",
     "text": [
      "train_loss : 0.05746899619698524\n",
      "train_F1: 0.9296875\n",
      "valid_loss : 0.10498000979423523\n",
      "valid_F1: 0.8707482993197279\n",
      "\n"
     ]
    },
    {
     "name": "stderr",
     "output_type": "stream",
     "text": [
      "\r",
      " 60%|█████████████████████████████████████████████████▊                                 | 6/10 [00:14<00:09,  2.44s/it]"
     ]
    },
    {
     "name": "stdout",
     "output_type": "stream",
     "text": [
      "train_loss : 0.05611406192183495\n",
      "train_F1: 0.9349206349206349\n",
      "valid_loss : 0.10456883311271667\n",
      "valid_F1: 0.88\n",
      "\n"
     ]
    },
    {
     "name": "stderr",
     "output_type": "stream",
     "text": [
      "\r",
      " 70%|██████████████████████████████████████████████████████████                         | 7/10 [00:17<00:07,  2.45s/it]"
     ]
    },
    {
     "name": "stdout",
     "output_type": "stream",
     "text": [
      "train_loss : 0.05493486002087593\n",
      "train_F1: 0.928909952606635\n",
      "valid_loss : 0.09787464737892151\n",
      "valid_F1: 0.8707482993197279\n",
      "\n"
     ]
    },
    {
     "name": "stderr",
     "output_type": "stream",
     "text": [
      "\r",
      " 80%|██████████████████████████████████████████████████████████████████▍                | 8/10 [00:19<00:04,  2.48s/it]"
     ]
    },
    {
     "name": "stdout",
     "output_type": "stream",
     "text": [
      "train_loss : 0.05441888496279716\n",
      "train_F1: 0.9321901792673422\n",
      "valid_loss : 0.1057765781879425\n",
      "valid_F1: 0.8707482993197279\n",
      "\n"
     ]
    },
    {
     "name": "stderr",
     "output_type": "stream",
     "text": [
      "\r",
      " 90%|██████████████████████████████████████████████████████████████████████████▋        | 9/10 [00:22<00:02,  2.47s/it]"
     ]
    },
    {
     "name": "stdout",
     "output_type": "stream",
     "text": [
      "train_loss : 0.05359228849411011\n",
      "train_F1: 0.9293089753772836\n",
      "valid_loss : 0.11863350868225098\n",
      "valid_F1: 0.8707482993197279\n",
      "\n"
     ]
    },
    {
     "name": "stderr",
     "output_type": "stream",
     "text": [
      "100%|██████████████████████████████████████████████████████████████████████████████████| 10/10 [00:24<00:00,  2.47s/it]\n",
      "  0%|                                                                                           | 0/10 [00:00<?, ?it/s]"
     ]
    },
    {
     "name": "stdout",
     "output_type": "stream",
     "text": [
      "train_loss : 0.053869336098432544\n",
      "train_F1: 0.9362706530291109\n",
      "valid_loss : 0.10495192408561707\n",
      "valid_F1: 0.8707482993197279\n",
      "FOLD 4\n",
      "--------------------------------\n",
      "\n"
     ]
    },
    {
     "name": "stderr",
     "output_type": "stream",
     "text": [
      "\r",
      " 10%|████████▎                                                                          | 1/10 [00:02<00:23,  2.57s/it]"
     ]
    },
    {
     "name": "stdout",
     "output_type": "stream",
     "text": [
      "train_loss : 1.022728405892849\n",
      "train_F1: 0.43902439024390244\n",
      "valid_loss : 0.2364177107810974\n",
      "valid_F1: 0.8413793103448276\n",
      "\n"
     ]
    },
    {
     "name": "stderr",
     "output_type": "stream",
     "text": [
      "\r",
      " 20%|████████████████▌                                                                  | 2/10 [00:05<00:20,  2.57s/it]"
     ]
    },
    {
     "name": "stdout",
     "output_type": "stream",
     "text": [
      "train_loss : 0.15056984685361385\n",
      "train_F1: 0.9050535987748852\n",
      "valid_loss : 0.14224184155464173\n",
      "valid_F1: 0.9166666666666666\n",
      "\n"
     ]
    },
    {
     "name": "stderr",
     "output_type": "stream",
     "text": [
      "\r",
      " 30%|████████████████████████▉                                                          | 3/10 [00:07<00:17,  2.55s/it]"
     ]
    },
    {
     "name": "stdout",
     "output_type": "stream",
     "text": [
      "train_loss : 0.09332856647670269\n",
      "train_F1: 0.9252120277563608\n",
      "valid_loss : 0.08194224834442139\n",
      "valid_F1: 0.9178082191780823\n",
      "\n"
     ]
    },
    {
     "name": "stderr",
     "output_type": "stream",
     "text": [
      "\r",
      " 40%|█████████████████████████████████▏                                                 | 4/10 [00:10<00:14,  2.49s/it]"
     ]
    },
    {
     "name": "stdout",
     "output_type": "stream",
     "text": [
      "train_loss : 0.0653215229511261\n",
      "train_F1: 0.9321766561514195\n",
      "valid_loss : 0.08063842058181762\n",
      "valid_F1: 0.9271523178807948\n",
      "\n"
     ]
    },
    {
     "name": "stderr",
     "output_type": "stream",
     "text": [
      "\r",
      " 50%|█████████████████████████████████████████▌                                         | 5/10 [00:12<00:12,  2.50s/it]"
     ]
    },
    {
     "name": "stdout",
     "output_type": "stream",
     "text": [
      "train_loss : 0.058840805664658546\n",
      "train_F1: 0.9296\n",
      "valid_loss : 0.06834262609481812\n",
      "valid_F1: 0.906474820143885\n",
      "\n"
     ]
    },
    {
     "name": "stderr",
     "output_type": "stream",
     "text": [
      "\r",
      " 60%|█████████████████████████████████████████████████▊                                 | 6/10 [00:15<00:10,  2.53s/it]"
     ]
    },
    {
     "name": "stdout",
     "output_type": "stream",
     "text": [
      "train_loss : 0.054326131194829944\n",
      "train_F1: 0.9353312302839116\n",
      "valid_loss : 0.06739122867584228\n",
      "valid_F1: 0.9051094890510948\n",
      "\n"
     ]
    },
    {
     "name": "stderr",
     "output_type": "stream",
     "text": [
      "\r",
      " 70%|██████████████████████████████████████████████████████████                         | 7/10 [00:17<00:07,  2.53s/it]"
     ]
    },
    {
     "name": "stdout",
     "output_type": "stream",
     "text": [
      "train_loss : 0.05261952430009842\n",
      "train_F1: 0.9326845093268451\n",
      "valid_loss : 0.0683364987373352\n",
      "valid_F1: 0.9\n",
      "\n"
     ]
    },
    {
     "name": "stderr",
     "output_type": "stream",
     "text": [
      "\r",
      " 80%|██████████████████████████████████████████████████████████████████▍                | 8/10 [00:20<00:05,  2.53s/it]"
     ]
    },
    {
     "name": "stdout",
     "output_type": "stream",
     "text": [
      "train_loss : 0.05362853407859802\n",
      "train_F1: 0.9287392325763508\n",
      "valid_loss : 0.07379831075668335\n",
      "valid_F1: 0.9090909090909091\n",
      "\n"
     ]
    },
    {
     "name": "stderr",
     "output_type": "stream",
     "text": [
      "\r",
      " 90%|██████████████████████████████████████████████████████████████████████████▋        | 9/10 [00:22<00:02,  2.55s/it]"
     ]
    },
    {
     "name": "stdout",
     "output_type": "stream",
     "text": [
      "train_loss : 0.051544911414384845\n",
      "train_F1: 0.9355608591885441\n",
      "valid_loss : 0.06775501966476441\n",
      "valid_F1: 0.8985507246376812\n",
      "\n"
     ]
    },
    {
     "name": "stderr",
     "output_type": "stream",
     "text": [
      "100%|██████████████████████████████████████████████████████████████████████████████████| 10/10 [00:25<00:00,  2.53s/it]\n",
      "  0%|                                                                                           | 0/10 [00:00<?, ?it/s]"
     ]
    },
    {
     "name": "stdout",
     "output_type": "stream",
     "text": [
      "train_loss : 0.05187326297163963\n",
      "train_F1: 0.9366085578446909\n",
      "valid_loss : 0.0703742504119873\n",
      "valid_F1: 0.9014084507042254\n",
      "FOLD 5\n",
      "--------------------------------\n",
      "\n"
     ]
    },
    {
     "name": "stderr",
     "output_type": "stream",
     "text": [
      "\r",
      " 10%|████████▎                                                                          | 1/10 [00:02<00:21,  2.40s/it]"
     ]
    },
    {
     "name": "stdout",
     "output_type": "stream",
     "text": [
      "train_loss : 1.0721427656710147\n",
      "train_F1: 0.41864555848724716\n",
      "valid_loss : 0.2113047420978546\n",
      "valid_F1: 0.8333333333333334\n",
      "\n"
     ]
    },
    {
     "name": "stderr",
     "output_type": "stream",
     "text": [
      "\r",
      " 20%|████████████████▌                                                                  | 2/10 [00:04<00:19,  2.46s/it]"
     ]
    },
    {
     "name": "stdout",
     "output_type": "stream",
     "text": [
      "train_loss : 0.16351160630583764\n",
      "train_F1: 0.9002284843869002\n",
      "valid_loss : 0.06689940690994263\n",
      "valid_F1: 0.945945945945946\n",
      "\n"
     ]
    },
    {
     "name": "stderr",
     "output_type": "stream",
     "text": [
      "\r",
      " 30%|████████████████████████▉                                                          | 3/10 [00:07<00:17,  2.48s/it]"
     ]
    },
    {
     "name": "stdout",
     "output_type": "stream",
     "text": [
      "train_loss : 0.08838750794529915\n",
      "train_F1: 0.9155693261037954\n",
      "valid_loss : 0.040873610973358156\n",
      "valid_F1: 0.9370629370629371\n",
      "\n"
     ]
    },
    {
     "name": "stderr",
     "output_type": "stream",
     "text": [
      "\r",
      " 40%|█████████████████████████████████▏                                                 | 4/10 [00:09<00:14,  2.45s/it]"
     ]
    },
    {
     "name": "stdout",
     "output_type": "stream",
     "text": [
      "train_loss : 0.06752798929810525\n",
      "train_F1: 0.9173745173745174\n",
      "valid_loss : 0.030399537086486815\n",
      "valid_F1: 0.9444444444444445\n",
      "\n"
     ]
    },
    {
     "name": "stderr",
     "output_type": "stream",
     "text": [
      "\r",
      " 50%|█████████████████████████████████████████▌                                         | 5/10 [00:12<00:12,  2.44s/it]"
     ]
    },
    {
     "name": "stdout",
     "output_type": "stream",
     "text": [
      "train_loss : 0.05890435501933098\n",
      "train_F1: 0.9223378702962369\n",
      "valid_loss : 0.028673011064529418\n",
      "valid_F1: 0.921985815602837\n",
      "\n"
     ]
    },
    {
     "name": "stderr",
     "output_type": "stream",
     "text": [
      "\r",
      " 60%|█████████████████████████████████████████████████▊                                 | 6/10 [00:14<00:09,  2.47s/it]"
     ]
    },
    {
     "name": "stdout",
     "output_type": "stream",
     "text": [
      "train_loss : 0.057092498242855075\n",
      "train_F1: 0.9228321400159109\n",
      "valid_loss : 0.028254604339599608\n",
      "valid_F1: 0.9370629370629371\n",
      "\n"
     ]
    },
    {
     "name": "stderr",
     "output_type": "stream",
     "text": [
      "\r",
      " 70%|██████████████████████████████████████████████████████████                         | 7/10 [00:17<00:07,  2.48s/it]"
     ]
    },
    {
     "name": "stdout",
     "output_type": "stream",
     "text": [
      "train_loss : 0.05660344287753105\n",
      "train_F1: 0.9238095238095239\n",
      "valid_loss : 0.028996586799621582\n",
      "valid_F1: 0.948905109489051\n",
      "\n"
     ]
    },
    {
     "name": "stderr",
     "output_type": "stream",
     "text": [
      "\r",
      " 80%|██████████████████████████████████████████████████████████████████▍                | 8/10 [00:19<00:04,  2.47s/it]"
     ]
    },
    {
     "name": "stdout",
     "output_type": "stream",
     "text": [
      "train_loss : 0.056515153497457504\n",
      "train_F1: 0.9298245614035088\n",
      "valid_loss : 0.03163902759552002\n",
      "valid_F1: 0.9295774647887323\n",
      "\n"
     ]
    },
    {
     "name": "stderr",
     "output_type": "stream",
     "text": [
      "\r",
      " 90%|██████████████████████████████████████████████████████████████████████████▋        | 9/10 [00:22<00:02,  2.46s/it]"
     ]
    },
    {
     "name": "stdout",
     "output_type": "stream",
     "text": [
      "train_loss : 0.05695496946573257\n",
      "train_F1: 0.9311424100156495\n",
      "valid_loss : 0.03020545244216919\n",
      "valid_F1: 0.9370629370629371\n",
      "\n"
     ]
    },
    {
     "name": "stderr",
     "output_type": "stream",
     "text": [
      "100%|██████████████████████████████████████████████████████████████████████████████████| 10/10 [00:24<00:00,  2.46s/it]\n",
      "  0%|                                                                                           | 0/10 [00:00<?, ?it/s]"
     ]
    },
    {
     "name": "stdout",
     "output_type": "stream",
     "text": [
      "train_loss : 0.05600139498710632\n",
      "train_F1: 0.9293089753772835\n",
      "valid_loss : 0.03018786907196045\n",
      "valid_F1: 0.921985815602837\n",
      "FOLD 6\n",
      "--------------------------------\n",
      "\n"
     ]
    },
    {
     "name": "stderr",
     "output_type": "stream",
     "text": [
      "\r",
      " 10%|████████▎                                                                          | 1/10 [00:02<00:22,  2.55s/it]"
     ]
    },
    {
     "name": "stdout",
     "output_type": "stream",
     "text": [
      "train_loss : 1.0729405775666236\n",
      "train_F1: 0.46209386281588444\n",
      "valid_loss : 0.224786639213562\n",
      "valid_F1: 0.8407643312101911\n",
      "\n"
     ]
    },
    {
     "name": "stderr",
     "output_type": "stream",
     "text": [
      "\r",
      " 20%|████████████████▌                                                                  | 2/10 [00:04<00:19,  2.46s/it]"
     ]
    },
    {
     "name": "stdout",
     "output_type": "stream",
     "text": [
      "train_loss : 0.15931340344250203\n",
      "train_F1: 0.8977709454265949\n",
      "valid_loss : 0.14507938623428346\n",
      "valid_F1: 0.8413793103448276\n",
      "\n"
     ]
    },
    {
     "name": "stderr",
     "output_type": "stream",
     "text": [
      "\r",
      " 30%|████████████████████████▉                                                          | 3/10 [00:07<00:17,  2.48s/it]"
     ]
    },
    {
     "name": "stdout",
     "output_type": "stream",
     "text": [
      "train_loss : 0.0750445444136858\n",
      "train_F1: 0.9326103795507359\n",
      "valid_loss : 0.09702659845352173\n",
      "valid_F1: 0.8666666666666666\n",
      "\n"
     ]
    },
    {
     "name": "stderr",
     "output_type": "stream",
     "text": [
      "\r",
      " 40%|█████████████████████████████████▏                                                 | 4/10 [00:10<00:15,  2.52s/it]"
     ]
    },
    {
     "name": "stdout",
     "output_type": "stream",
     "text": [
      "train_loss : 0.057408804446458815\n",
      "train_F1: 0.9321766561514195\n",
      "valid_loss : 0.09993247985839844\n",
      "valid_F1: 0.8450704225352113\n",
      "\n"
     ]
    },
    {
     "name": "stderr",
     "output_type": "stream",
     "text": [
      "\r",
      " 50%|█████████████████████████████████████████▌                                         | 5/10 [00:12<00:12,  2.53s/it]"
     ]
    },
    {
     "name": "stdout",
     "output_type": "stream",
     "text": [
      "train_loss : 0.05354450047016144\n",
      "train_F1: 0.9301587301587302\n",
      "valid_loss : 0.09657948017120362\n",
      "valid_F1: 0.851063829787234\n",
      "\n"
     ]
    },
    {
     "name": "stderr",
     "output_type": "stream",
     "text": [
      "\r",
      " 60%|█████████████████████████████████████████████████▊                                 | 6/10 [00:15<00:10,  2.52s/it]"
     ]
    },
    {
     "name": "stdout",
     "output_type": "stream",
     "text": [
      "train_loss : 0.04998828396201134\n",
      "train_F1: 0.9382911392405064\n",
      "valid_loss : 0.09533041715621948\n",
      "valid_F1: 0.832116788321168\n",
      "\n"
     ]
    },
    {
     "name": "stderr",
     "output_type": "stream",
     "text": [
      "\r",
      " 70%|██████████████████████████████████████████████████████████                         | 7/10 [00:17<00:07,  2.49s/it]"
     ]
    },
    {
     "name": "stdout",
     "output_type": "stream",
     "text": [
      "train_loss : 0.0491546630859375\n",
      "train_F1: 0.9451073985680191\n",
      "valid_loss : 0.09051567316055298\n",
      "valid_F1: 0.832116788321168\n",
      "\n"
     ]
    },
    {
     "name": "stderr",
     "output_type": "stream",
     "text": [
      "\r",
      " 80%|██████████████████████████████████████████████████████████████████▍                | 8/10 [00:19<00:04,  2.48s/it]"
     ]
    },
    {
     "name": "stdout",
     "output_type": "stream",
     "text": [
      "train_loss : 0.04827393889427185\n",
      "train_F1: 0.9423835832675611\n",
      "valid_loss : 0.09699244499206543\n",
      "valid_F1: 0.855263157894737\n",
      "\n"
     ]
    },
    {
     "name": "stderr",
     "output_type": "stream",
     "text": [
      "\r",
      " 90%|██████████████████████████████████████████████████████████████████████████▋        | 9/10 [00:22<00:02,  2.51s/it]"
     ]
    },
    {
     "name": "stdout",
     "output_type": "stream",
     "text": [
      "train_loss : 0.04840454906225204\n",
      "train_F1: 0.9420970266040688\n",
      "valid_loss : 0.10042332410812378\n",
      "valid_F1: 0.8391608391608392\n",
      "\n"
     ]
    },
    {
     "name": "stderr",
     "output_type": "stream",
     "text": [
      "100%|██████████████████████████████████████████████████████████████████████████████████| 10/10 [00:24<00:00,  2.50s/it]\n",
      "  0%|                                                                                           | 0/10 [00:00<?, ?it/s]"
     ]
    },
    {
     "name": "stdout",
     "output_type": "stream",
     "text": [
      "train_loss : 0.04837017506361008\n",
      "train_F1: 0.9369085173501578\n",
      "valid_loss : 0.0964084267616272\n",
      "valid_F1: 0.8244274809160306\n",
      "FOLD 7\n",
      "--------------------------------\n",
      "\n"
     ]
    },
    {
     "name": "stderr",
     "output_type": "stream",
     "text": [
      "\r",
      " 10%|████████▎                                                                          | 1/10 [00:02<00:21,  2.36s/it]"
     ]
    },
    {
     "name": "stdout",
     "output_type": "stream",
     "text": [
      "train_loss : 1.075817956030369\n",
      "train_F1: 0.45454545454545453\n",
      "valid_loss : 0.21690743565559387\n",
      "valid_F1: 0.7538461538461538\n",
      "\n"
     ]
    },
    {
     "name": "stderr",
     "output_type": "stream",
     "text": [
      "\r",
      " 20%|████████████████▌                                                                  | 2/10 [00:04<00:19,  2.42s/it]"
     ]
    },
    {
     "name": "stdout",
     "output_type": "stream",
     "text": [
      "train_loss : 0.15815497040748597\n",
      "train_F1: 0.8992248062015504\n",
      "valid_loss : 0.09614918231964112\n",
      "valid_F1: 0.9295774647887323\n",
      "\n"
     ]
    },
    {
     "name": "stderr",
     "output_type": "stream",
     "text": [
      "\r",
      " 30%|████████████████████████▉                                                          | 3/10 [00:07<00:17,  2.45s/it]"
     ]
    },
    {
     "name": "stdout",
     "output_type": "stream",
     "text": [
      "train_loss : 0.08416910506784916\n",
      "train_F1: 0.9168609168609169\n",
      "valid_loss : 0.06944820284843445\n",
      "valid_F1: 0.9172932330827068\n",
      "\n"
     ]
    },
    {
     "name": "stderr",
     "output_type": "stream",
     "text": [
      "\r",
      " 40%|█████████████████████████████████▏                                                 | 4/10 [00:09<00:14,  2.41s/it]"
     ]
    },
    {
     "name": "stdout",
     "output_type": "stream",
     "text": [
      "train_loss : 0.07035920359194278\n",
      "train_F1: 0.9261318506751389\n",
      "valid_loss : 0.06471070051193237\n",
      "valid_F1: 0.887218045112782\n",
      "\n"
     ]
    },
    {
     "name": "stderr",
     "output_type": "stream",
     "text": [
      "\r",
      " 50%|█████████████████████████████████████████▌                                         | 5/10 [00:12<00:12,  2.46s/it]"
     ]
    },
    {
     "name": "stdout",
     "output_type": "stream",
     "text": [
      "train_loss : 0.06083245873451233\n",
      "train_F1: 0.9264475743348983\n",
      "valid_loss : 0.056942975521087645\n",
      "valid_F1: 0.9251700680272108\n",
      "\n"
     ]
    },
    {
     "name": "stderr",
     "output_type": "stream",
     "text": [
      "\r",
      " 60%|█████████████████████████████████████████████████▊                                 | 6/10 [00:14<00:09,  2.48s/it]"
     ]
    },
    {
     "name": "stdout",
     "output_type": "stream",
     "text": [
      "train_loss : 0.0560784712433815\n",
      "train_F1: 0.933649289099526\n",
      "valid_loss : 0.054404163360595705\n",
      "valid_F1: 0.8905109489051095\n",
      "\n"
     ]
    },
    {
     "name": "stderr",
     "output_type": "stream",
     "text": [
      "\r",
      " 70%|██████████████████████████████████████████████████████████                         | 7/10 [00:17<00:07,  2.46s/it]"
     ]
    },
    {
     "name": "stdout",
     "output_type": "stream",
     "text": [
      "train_loss : 0.054092679917812345\n",
      "train_F1: 0.9309504467912266\n",
      "valid_loss : 0.05345410108566284\n",
      "valid_F1: 0.8905109489051095\n",
      "\n"
     ]
    },
    {
     "name": "stderr",
     "output_type": "stream",
     "text": [
      "\r",
      " 80%|██████████████████████████████████████████████████████████████████▍                | 8/10 [00:19<00:04,  2.43s/it]"
     ]
    },
    {
     "name": "stdout",
     "output_type": "stream",
     "text": [
      "train_loss : 0.053941337019205095\n",
      "train_F1: 0.9348171701112877\n",
      "valid_loss : 0.053601419925689696\n",
      "valid_F1: 0.8951048951048951\n",
      "\n"
     ]
    },
    {
     "name": "stderr",
     "output_type": "stream",
     "text": [
      "\r",
      " 90%|██████████████████████████████████████████████████████████████████████████▋        | 9/10 [00:21<00:02,  2.43s/it]"
     ]
    },
    {
     "name": "stdout",
     "output_type": "stream",
     "text": [
      "train_loss : 0.053299762308597565\n",
      "train_F1: 0.934959349593496\n",
      "valid_loss : 0.05271778106689453\n",
      "valid_F1: 0.916030534351145\n",
      "\n"
     ]
    },
    {
     "name": "stderr",
     "output_type": "stream",
     "text": [
      "100%|██████████████████████████████████████████████████████████████████████████████████| 10/10 [00:24<00:00,  2.45s/it]\n",
      "  0%|                                                                                           | 0/10 [00:00<?, ?it/s]"
     ]
    },
    {
     "name": "stdout",
     "output_type": "stream",
     "text": [
      "train_loss : 0.05206667929887772\n",
      "train_F1: 0.9416466826538769\n",
      "valid_loss : 0.05273834466934204\n",
      "valid_F1: 0.9104477611940298\n",
      "FOLD 8\n",
      "--------------------------------\n",
      "\n"
     ]
    },
    {
     "name": "stderr",
     "output_type": "stream",
     "text": [
      "\r",
      " 10%|████████▎                                                                          | 1/10 [00:02<00:22,  2.55s/it]"
     ]
    },
    {
     "name": "stdout",
     "output_type": "stream",
     "text": [
      "train_loss : 1.0564922861754895\n",
      "train_F1: 0.41518578352180935\n",
      "valid_loss : 0.15885572433471679\n",
      "valid_F1: 0.8843537414965986\n",
      "\n",
      "train_loss : 0.14724653996527196\n",
      "train_F1: 0.906888720666162\n",
      "valid_loss : 0.12228359580039978\n",
      "valid_F1: 0.9066666666666667"
     ]
    },
    {
     "name": "stderr",
     "output_type": "stream",
     "text": [
      "\r",
      " 20%|████████████████▌                                                                  | 2/10 [00:05<00:20,  2.52s/it]"
     ]
    },
    {
     "name": "stdout",
     "output_type": "stream",
     "text": [
      "\n",
      "\n"
     ]
    },
    {
     "name": "stderr",
     "output_type": "stream",
     "text": [
      "\r",
      " 30%|████████████████████████▉                                                          | 3/10 [00:07<00:17,  2.53s/it]"
     ]
    },
    {
     "name": "stdout",
     "output_type": "stream",
     "text": [
      "train_loss : 0.09876161254942417\n",
      "train_F1: 0.9200304645849201\n",
      "valid_loss : 0.09094708859920501\n",
      "valid_F1: 0.9241379310344828\n",
      "\n"
     ]
    },
    {
     "name": "stderr",
     "output_type": "stream",
     "text": [
      "\r",
      " 40%|█████████████████████████████████▏                                                 | 4/10 [00:10<00:15,  2.52s/it]"
     ]
    },
    {
     "name": "stdout",
     "output_type": "stream",
     "text": [
      "train_loss : 0.06683434434235096\n",
      "train_F1: 0.92018779342723\n",
      "valid_loss : 0.07210142612457275\n",
      "valid_F1: 0.9275362318840579\n",
      "\n"
     ]
    },
    {
     "name": "stderr",
     "output_type": "stream",
     "text": [
      "\r",
      " 50%|█████████████████████████████████████████▌                                         | 5/10 [00:12<00:12,  2.50s/it]"
     ]
    },
    {
     "name": "stdout",
     "output_type": "stream",
     "text": [
      "train_loss : 0.05766922831535339\n",
      "train_F1: 0.9227091633466136\n",
      "valid_loss : 0.06836115121841431\n",
      "valid_F1: 0.9090909090909091\n",
      "\n"
     ]
    },
    {
     "name": "stderr",
     "output_type": "stream",
     "text": [
      "\r",
      " 60%|█████████████████████████████████████████████████▊                                 | 6/10 [00:15<00:09,  2.48s/it]"
     ]
    },
    {
     "name": "stdout",
     "output_type": "stream",
     "text": [
      "train_loss : 0.05563724935054779\n",
      "train_F1: 0.9259547934528448\n",
      "valid_loss : 0.06925854086875916\n",
      "valid_F1: 0.8951048951048951\n",
      "\n"
     ]
    },
    {
     "name": "stderr",
     "output_type": "stream",
     "text": [
      "\r",
      " 70%|██████████████████████████████████████████████████████████                         | 7/10 [00:17<00:07,  2.51s/it]"
     ]
    },
    {
     "name": "stdout",
     "output_type": "stream",
     "text": [
      "train_loss : 0.054621639847755435\n",
      "train_F1: 0.9266347687400319\n",
      "valid_loss : 0.06514195203781128\n",
      "valid_F1: 0.9197080291970803\n",
      "\n"
     ]
    },
    {
     "name": "stderr",
     "output_type": "stream",
     "text": [
      "\r",
      " 80%|██████████████████████████████████████████████████████████████████▍                | 8/10 [00:20<00:04,  2.50s/it]"
     ]
    },
    {
     "name": "stdout",
     "output_type": "stream",
     "text": [
      "train_loss : 0.05259038358926773\n",
      "train_F1: 0.9253731343283582\n",
      "valid_loss : 0.062290513515472413\n",
      "valid_F1: 0.9117647058823529\n",
      "\n"
     ]
    },
    {
     "name": "stderr",
     "output_type": "stream",
     "text": [
      "\r",
      " 90%|██████████████████████████████████████████████████████████████████████████▋        | 9/10 [00:22<00:02,  2.47s/it]"
     ]
    },
    {
     "name": "stdout",
     "output_type": "stream",
     "text": [
      "train_loss : 0.05181585848331451\n",
      "train_F1: 0.9305666400638467\n",
      "valid_loss : 0.06356804370880127\n",
      "valid_F1: 0.923076923076923\n",
      "\n"
     ]
    },
    {
     "name": "stderr",
     "output_type": "stream",
     "text": [
      "100%|██████████████████████████████████████████████████████████████████████████████████| 10/10 [00:24<00:00,  2.50s/it]\n",
      "  0%|                                                                                           | 0/10 [00:00<?, ?it/s]"
     ]
    },
    {
     "name": "stdout",
     "output_type": "stream",
     "text": [
      "train_loss : 0.05186048224568367\n",
      "train_F1: 0.9333333333333335\n",
      "valid_loss : 0.06343463063240051\n",
      "valid_F1: 0.916030534351145\n",
      "FOLD 9\n",
      "--------------------------------\n",
      "\n"
     ]
    },
    {
     "name": "stderr",
     "output_type": "stream",
     "text": [
      "\r",
      " 10%|████████▎                                                                          | 1/10 [00:02<00:22,  2.45s/it]"
     ]
    },
    {
     "name": "stdout",
     "output_type": "stream",
     "text": [
      "train_loss : 1.1059430897235871\n",
      "train_F1: 0.4123893805309734\n",
      "valid_loss : 0.22844302654266357\n",
      "valid_F1: 0.8368794326241136\n",
      "\n"
     ]
    },
    {
     "name": "stderr",
     "output_type": "stream",
     "text": [
      "\r",
      " 20%|████████████████▌                                                                  | 2/10 [00:04<00:19,  2.42s/it]"
     ]
    },
    {
     "name": "stdout",
     "output_type": "stream",
     "text": [
      "train_loss : 0.15693032443523408\n",
      "train_F1: 0.9002284843869002\n",
      "valid_loss : 0.09943410158157348\n",
      "valid_F1: 0.9395973154362416\n",
      "\n"
     ]
    },
    {
     "name": "stderr",
     "output_type": "stream",
     "text": [
      "\r",
      " 30%|████████████████████████▉                                                          | 3/10 [00:07<00:17,  2.47s/it]"
     ]
    },
    {
     "name": "stdout",
     "output_type": "stream",
     "text": [
      "train_loss : 0.09477468430995942\n",
      "train_F1: 0.9153318077803203\n",
      "valid_loss : 0.07063151001930237\n",
      "valid_F1: 0.923076923076923\n",
      "\n"
     ]
    },
    {
     "name": "stderr",
     "output_type": "stream",
     "text": [
      "\r",
      " 40%|█████████████████████████████████▏                                                 | 4/10 [00:09<00:14,  2.48s/it]"
     ]
    },
    {
     "name": "stdout",
     "output_type": "stream",
     "text": [
      "train_loss : 0.07236549034714698\n",
      "train_F1: 0.9245432883240667\n",
      "valid_loss : 0.062227845191955566\n",
      "valid_F1: 0.9315068493150684\n",
      "\n"
     ]
    },
    {
     "name": "stderr",
     "output_type": "stream",
     "text": [
      "\r",
      " 50%|█████████████████████████████████████████▌                                         | 5/10 [00:12<00:12,  2.49s/it]"
     ]
    },
    {
     "name": "stdout",
     "output_type": "stream",
     "text": [
      "train_loss : 0.06055576764047146\n",
      "train_F1: 0.923682140047207\n",
      "valid_loss : 0.05470069646835327\n",
      "valid_F1: 0.9264705882352942\n",
      "\n"
     ]
    },
    {
     "name": "stderr",
     "output_type": "stream",
     "text": [
      "\r",
      " 60%|█████████████████████████████████████████████████▊                                 | 6/10 [00:14<00:09,  2.48s/it]"
     ]
    },
    {
     "name": "stdout",
     "output_type": "stream",
     "text": [
      "train_loss : 0.058972270041704175\n",
      "train_F1: 0.9273743016759776\n",
      "valid_loss : 0.05177503824234009\n",
      "valid_F1: 0.9253731343283582\n",
      "\n"
     ]
    },
    {
     "name": "stderr",
     "output_type": "stream",
     "text": [
      "\r",
      " 70%|██████████████████████████████████████████████████████████                         | 7/10 [00:17<00:07,  2.48s/it]"
     ]
    },
    {
     "name": "stdout",
     "output_type": "stream",
     "text": [
      "train_loss : 0.05461499541997909\n",
      "train_F1: 0.9281150159744409\n",
      "valid_loss : 0.04816208481788635\n",
      "valid_F1: 0.9185185185185185\n",
      "\n"
     ]
    },
    {
     "name": "stderr",
     "output_type": "stream",
     "text": [
      "\r",
      " 80%|██████████████████████████████████████████████████████████████████▍                | 8/10 [00:19<00:04,  2.47s/it]"
     ]
    },
    {
     "name": "stdout",
     "output_type": "stream",
     "text": [
      "train_loss : 0.05508963316679001\n",
      "train_F1: 0.9265536723163842\n",
      "valid_loss : 0.04886829853057861\n",
      "valid_F1: 0.9343065693430657\n",
      "\n"
     ]
    },
    {
     "name": "stderr",
     "output_type": "stream",
     "text": [
      "\r",
      " 90%|██████████████████████████████████████████████████████████████████████████▋        | 9/10 [00:22<00:02,  2.48s/it]"
     ]
    },
    {
     "name": "stdout",
     "output_type": "stream",
     "text": [
      "train_loss : 0.05333574637770653\n",
      "train_F1: 0.9350441058540497\n",
      "valid_loss : 0.047375190258026126\n",
      "valid_F1: 0.9253731343283582\n",
      "\n"
     ]
    },
    {
     "name": "stderr",
     "output_type": "stream",
     "text": [
      "100%|██████████████████████████████████████████████████████████████████████████████████| 10/10 [00:24<00:00,  2.46s/it]"
     ]
    },
    {
     "name": "stdout",
     "output_type": "stream",
     "text": [
      "train_loss : 0.05351424887776375\n",
      "train_F1: 0.9270248596631917\n",
      "valid_loss : 0.04525509476661682\n",
      "valid_F1: 0.9185185185185185\n"
     ]
    },
    {
     "name": "stderr",
     "output_type": "stream",
     "text": [
      "\n"
     ]
    }
   ],
   "source": [
    "All_Fold_score = []\n",
    "for fold, (train_ids, test_ids) in enumerate(kfold.split(tr_dataset)):\n",
    "    print(f'FOLD {fold}')\n",
    "    print('--------------------------------')\n",
    "    train_subsampler = torch.utils.data.SubsetRandomSampler(train_ids)\n",
    "    test_subsampler = torch.utils.data.SubsetRandomSampler(test_ids)\n",
    "    train_dataloader = DataLoader(dataset, batch_size=bs,\n",
    "                                  collate_fn=tr_dataset.collate_fn,\n",
    "                                  sampler=train_subsampler)\n",
    "    valid_dataloader = DataLoader(dataset, batch_size=bs,\n",
    "                                  collate_fn=va_dataset.collate_fn,\n",
    "                                  sampler=test_subsampler)  \n",
    "    model = EmbeddedRnn(len(word2idx), 256, len(tags),2,word_pad_idx,tag_pad_idx)\n",
    "    optimizer = optim.AdamW(model.parameters(), lr=5e-3)\n",
    "    model = model.to(device)\n",
    "    all_loader = {\"train\" : train_dataloader,\n",
    "                  \"valid\" : valid_dataloader}\n",
    "    Fold_score = []\n",
    "    for epoch in tqdm(range(num_epoch)):\n",
    "        all_loss = {\n",
    "            'train': [],\n",
    "            'valid': [],\n",
    "        }\n",
    "        print('')\n",
    "        for loader in all_loader:\n",
    "            predictions , true_labels  = [],[]\n",
    "            for x, y in all_loader[loader]:\n",
    "                optimizer.zero_grad()\n",
    "                x = x.to(device)\n",
    "                y = y.to(device)\n",
    "                hidden = model.initHidden(x.size(0))\n",
    "                hidden[0] = hidden[0].to(device)\n",
    "                hidden[1] = hidden[1].to(device)\n",
    "                output, loss = model(x, hidden,y)\n",
    "                if loader == 'train':\n",
    "                    loss.backward()\n",
    "                    optimizer.step()\n",
    "                all_loss[loader].append(loss.cpu().item()) \n",
    "                predictions.extend([[idx2tag[j] for j in i] for i in output])\n",
    "                for i in y.detach().cpu().numpy():\n",
    "                    _ = []\n",
    "                    for j in i:\n",
    "                        if j != tag_pad_idx:\n",
    "                            _.append(idx2tag[j])\n",
    "                    true_labels.append(_)\n",
    "            print(f'{loader}_loss : {np.mean(np.array(all_loss[loader]))/64}')\n",
    "            f_ = f1_score(true_labels,predictions,scheme = IOB2)\n",
    "            print(f'{loader}_F1: {f_}')\n",
    "            if loader == 'valid':\n",
    "                Fold_score.append(f_)\n",
    "    if Fold_score != []:\n",
    "        All_Fold_score.append(Fold_score)"
   ]
  },
  {
   "cell_type": "code",
   "execution_count": 21,
   "id": "terminal-colorado",
   "metadata": {},
   "outputs": [
    {
     "data": {
      "text/plain": [
       "array([0.84, 0.91, 0.92, 0.91, 0.91, 0.9 , 0.9 , 0.91, 0.9 , 0.9 ])"
      ]
     },
     "execution_count": 21,
     "metadata": {},
     "output_type": "execute_result"
    }
   ],
   "source": [
    "All_score = len(All_Fold_score[0]) * [0]\n",
    "for score in All_Fold_score:\n",
    "    All_score = np.sum([All_score,score], axis = 0)\n",
    "All_score = np.round((All_score / 10) ,2) \n",
    "All_score"
   ]
  },
  {
   "cell_type": "markdown",
   "id": "featured-future",
   "metadata": {},
   "source": [
    "## 全部的 trainingset 訓練 model 後, 透過 validset 評估 model"
   ]
  },
  {
   "cell_type": "code",
   "execution_count": 26,
   "id": "mechanical-tourism",
   "metadata": {},
   "outputs": [],
   "source": [
    "tr_dataset = NERDataset(X_train,y_train,word2idx['<pad>'],tag2idx['<pad>'])\n",
    "va_dataset = NERDataset(X_test,y_test,word2idx['<pad>'],tag2idx['<pad>'])\n",
    "train_dataloader = DataLoader(tr_dataset, batch_size=bs,\n",
    "                            collate_fn=tr_dataset.collate_fn)\n",
    "valid_dataloader = DataLoader(va_dataset, batch_size=bs,\n",
    "                            collate_fn=va_dataset.collate_fn)  \n",
    "model = EmbeddedRnn(len(word2idx), 256, len(tags),2,word_pad_idx,tag_pad_idx)\n",
    "optimizer = optim.AdamW(model.parameters(), lr=5e-3)\n",
    "model = model.to(device)\n",
    "all_loader = {\"train\" : train_dataloader,\n",
    "              \"valid\" : valid_dataloader}"
   ]
  },
  {
   "cell_type": "code",
   "execution_count": 27,
   "id": "determined-automation",
   "metadata": {
    "scrolled": true
   },
   "outputs": [
    {
     "name": "stderr",
     "output_type": "stream",
     "text": [
      "\r",
      "  0%|                                                                                           | 0/10 [00:00<?, ?it/s]"
     ]
    },
    {
     "name": "stdout",
     "output_type": "stream",
     "text": [
      "\n",
      "train_loss : 0.9918276329835256\n",
      "train_F1: 0.44787644787644787\n"
     ]
    },
    {
     "name": "stderr",
     "output_type": "stream",
     "text": [
      "\r",
      " 10%|████████▎                                                                          | 1/10 [00:02<00:24,  2.76s/it]"
     ]
    },
    {
     "name": "stdout",
     "output_type": "stream",
     "text": [
      "valid_loss : 0.8534433160509381\n",
      "valid_F1: 0.603174603174603\n",
      "\n",
      "train_loss : 0.1488828053077062\n",
      "train_F1: 0.9070887818306951\n"
     ]
    },
    {
     "name": "stderr",
     "output_type": "stream",
     "text": [
      "\r",
      " 20%|████████████████▌                                                                  | 2/10 [00:05<00:21,  2.74s/it]"
     ]
    },
    {
     "name": "stdout",
     "output_type": "stream",
     "text": [
      "valid_loss : 0.6977005771228245\n",
      "valid_F1: 0.6969696969696969\n",
      "\n",
      "train_loss : 0.09127396510707007\n",
      "train_F1: 0.926027397260274\n"
     ]
    },
    {
     "name": "stderr",
     "output_type": "stream",
     "text": [
      "\r",
      " 30%|████████████████████████▉                                                          | 3/10 [00:08<00:19,  2.76s/it]"
     ]
    },
    {
     "name": "stdout",
     "output_type": "stream",
     "text": [
      "valid_loss : 0.7558879256248474\n",
      "valid_F1: 0.6804123711340206\n",
      "\n",
      "train_loss : 0.060549938016467623\n",
      "train_F1: 0.9298369950389794\n"
     ]
    },
    {
     "name": "stderr",
     "output_type": "stream",
     "text": [
      "\r",
      " 40%|█████████████████████████████████▏                                                 | 4/10 [00:11<00:16,  2.78s/it]"
     ]
    },
    {
     "name": "stdout",
     "output_type": "stream",
     "text": [
      "valid_loss : 0.8134842429842267\n",
      "valid_F1: 0.6489361702127661\n",
      "\n",
      "train_loss : 0.05712536573410034\n",
      "train_F1: 0.9308624376336423\n"
     ]
    },
    {
     "name": "stderr",
     "output_type": "stream",
     "text": [
      "\r",
      " 50%|█████████████████████████████████████████▌                                         | 5/10 [00:14<00:14,  2.83s/it]"
     ]
    },
    {
     "name": "stdout",
     "output_type": "stream",
     "text": [
      "valid_loss : 0.8615969589778355\n",
      "valid_F1: 0.66\n",
      "\n",
      "train_loss : 0.05198064645131429\n",
      "train_F1: 0.935251798561151\n",
      "valid_loss : 0.9410698328699384\n",
      "valid_F1: 0.6699029126213593"
     ]
    },
    {
     "name": "stderr",
     "output_type": "stream",
     "text": [
      "\r",
      " 60%|█████████████████████████████████████████████████▊                                 | 6/10 [00:17<00:11,  2.89s/it]"
     ]
    },
    {
     "name": "stdout",
     "output_type": "stream",
     "text": [
      "\n",
      "\n",
      "train_loss : 0.051404794719484115\n",
      "train_F1: 0.9356223175965664\n"
     ]
    },
    {
     "name": "stderr",
     "output_type": "stream",
     "text": [
      "\r",
      " 70%|██████████████████████████████████████████████████████████                         | 7/10 [00:19<00:08,  2.83s/it]"
     ]
    },
    {
     "name": "stdout",
     "output_type": "stream",
     "text": [
      "valid_loss : 0.9697112611361912\n",
      "valid_F1: 0.6699029126213593\n",
      "\n",
      "train_loss : 0.05101567970381843\n",
      "train_F1: 0.9363831308077198\n"
     ]
    },
    {
     "name": "stderr",
     "output_type": "stream",
     "text": [
      "\r",
      " 80%|██████████████████████████████████████████████████████████████████▍                | 8/10 [00:22<00:05,  2.83s/it]"
     ]
    },
    {
     "name": "stdout",
     "output_type": "stream",
     "text": [
      "valid_loss : 0.9949791942323957\n",
      "valid_F1: 0.6763285024154588\n",
      "\n",
      "train_loss : 0.051482242345809934\n",
      "train_F1: 0.9358327325162221\n"
     ]
    },
    {
     "name": "stderr",
     "output_type": "stream",
     "text": [
      "\r",
      " 90%|██████████████████████████████████████████████████████████████████████████▋        | 9/10 [00:25<00:02,  2.81s/it]"
     ]
    },
    {
     "name": "stdout",
     "output_type": "stream",
     "text": [
      "valid_loss : 0.9544537237712315\n",
      "valid_F1: 0.6699507389162561\n",
      "\n",
      "train_loss : 0.05123677518632677\n",
      "train_F1: 0.9358974358974359\n"
     ]
    },
    {
     "name": "stderr",
     "output_type": "stream",
     "text": [
      "100%|██████████████████████████████████████████████████████████████████████████████████| 10/10 [00:28<00:00,  2.81s/it]"
     ]
    },
    {
     "name": "stdout",
     "output_type": "stream",
     "text": [
      "valid_loss : 0.965035447052547\n",
      "valid_F1: 0.6601941747572816\n"
     ]
    },
    {
     "name": "stderr",
     "output_type": "stream",
     "text": [
      "\n"
     ]
    }
   ],
   "source": [
    "F_score = []\n",
    "for epoch in tqdm(range(num_epoch)):\n",
    "    all_loss = {\n",
    "    'train': [],\n",
    "    'valid': [],\n",
    "    }\n",
    "    print('')\n",
    "    for loader in all_loader:\n",
    "        predictions , true_labels  = [],[]\n",
    "        for x, y in all_loader[loader]:\n",
    "            optimizer.zero_grad()\n",
    "            x = x.to(device)\n",
    "            y = y.to(device)\n",
    "            hidden = model.initHidden(x.size(0))\n",
    "            hidden[0] = hidden[0].to(device)\n",
    "            hidden[1] = hidden[1].to(device)\n",
    "            output, loss = model(x, hidden,y)\n",
    "            if loader == 'train':\n",
    "                loss.backward()\n",
    "                optimizer.step()\n",
    "            all_loss[loader].append(loss.cpu().item()) \n",
    "            predictions.extend([[idx2tag[j] for j in i] for i in output])\n",
    "            for i in y.detach().cpu().numpy():\n",
    "                _ = []\n",
    "                for j in i:\n",
    "                    if j != tag_pad_idx:\n",
    "                        _.append(idx2tag[j])\n",
    "                true_labels.append(_)\n",
    "        print(f'{loader}_loss : {np.mean(np.array(all_loss[loader]))/64}')\n",
    "        f_ = f1_score(true_labels,predictions,scheme = IOB2)\n",
    "        print(f'{loader}_F1: {f_}')\n",
    "        if loader == 'valid':\n",
    "            F_score.append(f_)"
   ]
  },
  {
   "cell_type": "code",
   "execution_count": 28,
   "id": "liquid-egyptian",
   "metadata": {},
   "outputs": [
    {
     "data": {
      "text/plain": [
       "array([0.6 , 0.7 , 0.68, 0.65, 0.66, 0.67, 0.67, 0.68, 0.67, 0.66])"
      ]
     },
     "execution_count": 28,
     "metadata": {},
     "output_type": "execute_result"
    }
   ],
   "source": [
    "np.round(np.array(F_score),2)"
   ]
  },
  {
   "cell_type": "code",
   "execution_count": null,
   "id": "planned-shore",
   "metadata": {},
   "outputs": [],
   "source": []
  }
 ],
 "metadata": {
  "kernelspec": {
   "display_name": "Python 3",
   "language": "python",
   "name": "python3"
  },
  "language_info": {
   "codemirror_mode": {
    "name": "ipython",
    "version": 3
   },
   "file_extension": ".py",
   "mimetype": "text/x-python",
   "name": "python",
   "nbconvert_exporter": "python",
   "pygments_lexer": "ipython3",
   "version": "3.8.5"
  }
 },
 "nbformat": 4,
 "nbformat_minor": 5
}
